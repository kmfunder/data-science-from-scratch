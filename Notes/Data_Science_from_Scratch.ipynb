{
 "cells": [
  {
   "cell_type": "markdown",
   "id": "5f4faeeb-12c7-40b5-8977-249d9e359a67",
   "metadata": {
    "tags": []
   },
   "source": [
    "# Data Science From Scratch "
   ]
  },
  {
   "cell_type": "markdown",
   "id": "780cc903-e1e1-4770-abd5-ff24d3062080",
   "metadata": {
    "tags": []
   },
   "source": [
    "This textbook was written by [Joel Grus](https://joelgrus.com/) and published in 2019. I purchased this text to accompany the [Applied Machine Learning](https://github.com/kmfunder/fall2019) course that I took through the NIH in the fall of 2019. All the code from the text can be found on [GitHub](https://github.com/joelgrus/data-science-from-scratch/tree/master/scratch)."
   ]
  },
  {
   "cell_type": "markdown",
   "id": "7605dd51-7061-4469-a04f-ec0590722aca",
   "metadata": {
    "jp-MarkdownHeadingCollapsed": true,
    "tags": []
   },
   "source": [
    "## Learning Goals"
   ]
  },
  {
   "cell_type": "markdown",
   "id": "dbdedd06-6e5a-4e33-a009-d3918f35eafe",
   "metadata": {
    "jp-MarkdownHeadingCollapsed": true,
    "tags": []
   },
   "source": [
    "- [x] Intro to Python (Chapters 2 & 3)\n",
    "\n",
    "    > Date Started: 12/9/21\n",
    "    >\n",
    "    > Date Completed: 12/9/21\n",
    "    \n",
    "- [x] Getting and Working with Data (Chapters 9 & 10)\n",
    "\n",
    "    > Date Started: 12/15/21\n",
    "    >\n",
    "    > Date Completed: 12/15/21\n",
    "    \n",
    "- [ ] *k*-Nearest Neighbors and Naive Bayes (Chapters 12 & 13)\n",
    "\n",
    "    > Date Started: 12/15/21\n",
    "    >\n",
    "    > Date Completed: \n",
    "\n",
    "- [ ] Regression (Chapters 14 - 16)\n",
    "\n",
    "    > Date Started: \n",
    "    >\n",
    "    > Date Completed: \n",
    "\n",
    "- [ ] Decision Trees (Chapter 17)\n",
    "\n",
    "    > Date Started: \n",
    "    >\n",
    "    > Date Completed: \n",
    "\n",
    "- [ ] Neural Networks (Chapter 18)\n",
    "\n",
    "    > Date Started: \n",
    "    >\n",
    "    > Date Completed: \n",
    "\n",
    "- [ ] Deep Learning (Chapter 19)\n",
    "\n",
    "    > Date Started: \n",
    "    >\n",
    "    > Date Completed: \n",
    "\n",
    "- [ ] Clustering (Chapter 20)\n",
    "\n",
    "    > Date Started: \n",
    "    >\n",
    "    > Date Completed: \n",
    "\n",
    "- [ ] Natural Language Processing and Network Analysis (Chapters 21 & 22)\n",
    "\n",
    "    > Date Started: \n",
    "    >\n",
    "    > Date Completed: "
   ]
  },
  {
   "cell_type": "markdown",
   "id": "c6e811b7",
   "metadata": {
    "jp-MarkdownHeadingCollapsed": true,
    "tags": []
   },
   "source": [
    "## Chapter 2: Crash Course in Python"
   ]
  },
  {
   "cell_type": "markdown",
   "id": "cbea957a",
   "metadata": {
    "tags": []
   },
   "source": [
    "### Loading Modules:"
   ]
  },
  {
   "cell_type": "markdown",
   "id": "24477bc1",
   "metadata": {},
   "source": [
    "Importing modules in Python is very similar to loading packages in R with some slight changes. \n",
    "* Modules can be renamed\n",
    "* You can choose to only load specific functions \n",
    "    "
   ]
  },
  {
   "cell_type": "code",
   "execution_count": 1,
   "id": "fe54dbde",
   "metadata": {},
   "outputs": [],
   "source": [
    "import re\n",
    "my_regex = re.compile('[0-9]+', re.I)"
   ]
  },
  {
   "cell_type": "code",
   "execution_count": 2,
   "id": "87b882f6",
   "metadata": {},
   "outputs": [],
   "source": [
    "import re as regex\n",
    "my_regex = regex.compile('[0-9]+', regex.I)"
   ]
  },
  {
   "cell_type": "code",
   "execution_count": 3,
   "id": "21c011bd",
   "metadata": {},
   "outputs": [],
   "source": [
    "from collections import defaultdict, Counter\n",
    "lookup = defaultdict(int)\n",
    "my_counter = Counter()"
   ]
  },
  {
   "cell_type": "markdown",
   "id": "f2a27f48",
   "metadata": {},
   "source": [
    "### Functions:"
   ]
  },
  {
   "cell_type": "markdown",
   "id": "38b5bbf9",
   "metadata": {},
   "source": [
    "Functions take zero or more inputs and return an output."
   ]
  },
  {
   "cell_type": "code",
   "execution_count": 4,
   "id": "fb571641",
   "metadata": {},
   "outputs": [
    {
     "data": {
      "text/plain": [
       "12"
      ]
     },
     "execution_count": 4,
     "metadata": {},
     "output_type": "execute_result"
    }
   ],
   "source": [
    "def double(x):\n",
    "    # This function multiplies the input by 2\n",
    "    return x*2\n",
    "double(6)"
   ]
  },
  {
   "cell_type": "code",
   "execution_count": 5,
   "id": "2e9e4333",
   "metadata": {},
   "outputs": [
    {
     "data": {
      "text/plain": [
       "2"
      ]
     },
     "execution_count": 5,
     "metadata": {},
     "output_type": "execute_result"
    }
   ],
   "source": [
    "def apply_one(f):\n",
    "    #calls function with 1 as input\n",
    "    return f(1)\n",
    "apply_one(double)"
   ]
  },
  {
   "cell_type": "markdown",
   "id": "05da9a0e",
   "metadata": {},
   "source": [
    "You can also create short, anonymous functions called *lambdas*"
   ]
  },
  {
   "cell_type": "code",
   "execution_count": 6,
   "id": "c83dbbb0",
   "metadata": {},
   "outputs": [
    {
     "data": {
      "text/plain": [
       "5"
      ]
     },
     "execution_count": 6,
     "metadata": {},
     "output_type": "execute_result"
    }
   ],
   "source": [
    "apply_one(lambda x: x+4)"
   ]
  },
  {
   "cell_type": "markdown",
   "id": "cefe2d27",
   "metadata": {},
   "source": [
    "Functions can also be given defaults."
   ]
  },
  {
   "cell_type": "code",
   "execution_count": 7,
   "id": "9dd80730",
   "metadata": {},
   "outputs": [
    {
     "name": "stdout",
     "output_type": "stream",
     "text": [
      "hello world\n",
      "default message\n"
     ]
    }
   ],
   "source": [
    "def my_print(message = 'default message'):\n",
    "    print(message)\n",
    "    \n",
    "my_print('hello world')\n",
    "my_print()"
   ]
  },
  {
   "cell_type": "markdown",
   "id": "afd6e90d",
   "metadata": {},
   "source": [
    "### Strings:"
   ]
  },
  {
   "cell_type": "code",
   "execution_count": 8,
   "id": "8fb1f7c6",
   "metadata": {},
   "outputs": [
    {
     "data": {
      "text/plain": [
       "'hello world'"
      ]
     },
     "execution_count": 8,
     "metadata": {},
     "output_type": "execute_result"
    }
   ],
   "source": [
    "single_string = 'hello world'\n",
    "single_string"
   ]
  },
  {
   "cell_type": "code",
   "execution_count": 9,
   "id": "ff275ea9",
   "metadata": {},
   "outputs": [
    {
     "data": {
      "text/plain": [
       "'hello world'"
      ]
     },
     "execution_count": 9,
     "metadata": {},
     "output_type": "execute_result"
    }
   ],
   "source": [
    "double_string = \"hello world\"\n",
    "double_string"
   ]
  },
  {
   "cell_type": "code",
   "execution_count": 10,
   "id": "e5080bbf",
   "metadata": {},
   "outputs": [
    {
     "data": {
      "text/plain": [
       "'\\\\t'"
      ]
     },
     "execution_count": 10,
     "metadata": {},
     "output_type": "execute_result"
    }
   ],
   "source": [
    "special_char = r\"\\t\"\n",
    "special_char"
   ]
  },
  {
   "cell_type": "code",
   "execution_count": 11,
   "id": "edc2df2f",
   "metadata": {},
   "outputs": [
    {
     "data": {
      "text/plain": [
       "'This is the beginning\\nof a multiline string.\\nThis is the end.'"
      ]
     },
     "execution_count": 11,
     "metadata": {},
     "output_type": "execute_result"
    }
   ],
   "source": [
    "multi_line = \"\"\"This is the beginning\n",
    "of a multiline string.\n",
    "This is the end.\"\"\"\n",
    "multi_line"
   ]
  },
  {
   "cell_type": "markdown",
   "id": "6b96f35b",
   "metadata": {},
   "source": [
    "Python also supports an *f-string*, which provides a simple way to substitute values"
   ]
  },
  {
   "cell_type": "code",
   "execution_count": 12,
   "id": "fa1b7833",
   "metadata": {},
   "outputs": [],
   "source": [
    "first_name = \"Karen\"\n",
    "last_name = \"Funderburk\""
   ]
  },
  {
   "cell_type": "code",
   "execution_count": 13,
   "id": "d5b54ca1",
   "metadata": {},
   "outputs": [
    {
     "data": {
      "text/plain": [
       "'First: Karen, Last: Funderburk'"
      ]
     },
     "execution_count": 13,
     "metadata": {},
     "output_type": "execute_result"
    }
   ],
   "source": [
    "\"First: \" + first_name + \", Last: \" + last_name"
   ]
  },
  {
   "cell_type": "code",
   "execution_count": 14,
   "id": "70d4eb11",
   "metadata": {},
   "outputs": [
    {
     "name": "stdout",
     "output_type": "stream",
     "text": [
      "First: Karen, Last: Funderburk\n"
     ]
    }
   ],
   "source": [
    "print(f\"First: {first_name}, Last: {last_name}\")"
   ]
  },
  {
   "cell_type": "markdown",
   "id": "3f464cae",
   "metadata": {},
   "source": [
    "### Lists:\n",
    "\n",
    "One of the most fundamental data structures in Python. A *list* is simply an ordered collection of elements. "
   ]
  },
  {
   "cell_type": "code",
   "execution_count": 15,
   "id": "28d5f894",
   "metadata": {},
   "outputs": [
    {
     "data": {
      "text/plain": [
       "[1, 2, 3]"
      ]
     },
     "execution_count": 15,
     "metadata": {},
     "output_type": "execute_result"
    }
   ],
   "source": [
    "integer_list = [1,2,3]\n",
    "integer_list"
   ]
  },
  {
   "cell_type": "code",
   "execution_count": 16,
   "id": "188a418e",
   "metadata": {},
   "outputs": [
    {
     "data": {
      "text/plain": [
       "['string', 5, True]"
      ]
     },
     "execution_count": 16,
     "metadata": {},
     "output_type": "execute_result"
    }
   ],
   "source": [
    "hetero_list = [\"string\", 5, True]\n",
    "hetero_list"
   ]
  },
  {
   "cell_type": "code",
   "execution_count": 17,
   "id": "0a3abc27",
   "metadata": {},
   "outputs": [
    {
     "data": {
      "text/plain": [
       "[[1, 2, 3], ['string', 5, True], []]"
      ]
     },
     "execution_count": 17,
     "metadata": {},
     "output_type": "execute_result"
    }
   ],
   "source": [
    "list_o_lists = [integer_list, hetero_list, []]\n",
    "list_o_lists"
   ]
  },
  {
   "cell_type": "code",
   "execution_count": 18,
   "id": "957e995b",
   "metadata": {},
   "outputs": [
    {
     "data": {
      "text/plain": [
       "0"
      ]
     },
     "execution_count": 18,
     "metadata": {},
     "output_type": "execute_result"
    }
   ],
   "source": [
    "x = [0,1,2,3,4,5,6,7,8,9]\n",
    "x[0]        # first element"
   ]
  },
  {
   "cell_type": "code",
   "execution_count": 19,
   "id": "4a7c44a1",
   "metadata": {},
   "outputs": [
    {
     "data": {
      "text/plain": [
       "1"
      ]
     },
     "execution_count": 19,
     "metadata": {},
     "output_type": "execute_result"
    }
   ],
   "source": [
    "x[1]        # second element"
   ]
  },
  {
   "cell_type": "code",
   "execution_count": 20,
   "id": "f95ac6fb",
   "metadata": {},
   "outputs": [
    {
     "data": {
      "text/plain": [
       "9"
      ]
     },
     "execution_count": 20,
     "metadata": {},
     "output_type": "execute_result"
    }
   ],
   "source": [
    "x[-1]       # last element"
   ]
  },
  {
   "cell_type": "code",
   "execution_count": 21,
   "id": "9063a476",
   "metadata": {},
   "outputs": [
    {
     "data": {
      "text/plain": [
       "8"
      ]
     },
     "execution_count": 21,
     "metadata": {},
     "output_type": "execute_result"
    }
   ],
   "source": [
    "x[-2]       # second to last element"
   ]
  },
  {
   "cell_type": "markdown",
   "id": "7f37a854",
   "metadata": {},
   "source": [
    "Lists can also be sliced using `i:j`. The slice from `i:j` takes all elements from `i` (inclusive) to `j` (not inclusive)."
   ]
  },
  {
   "cell_type": "code",
   "execution_count": 22,
   "id": "f910c98d",
   "metadata": {},
   "outputs": [
    {
     "data": {
      "text/plain": [
       "[0, 1, 2, 3, 4, 5, 6, 7, 8, 9]"
      ]
     },
     "execution_count": 22,
     "metadata": {},
     "output_type": "execute_result"
    }
   ],
   "source": [
    "x"
   ]
  },
  {
   "cell_type": "code",
   "execution_count": 23,
   "id": "c2e213dc",
   "metadata": {},
   "outputs": [
    {
     "data": {
      "text/plain": [
       "[0, 1, 2]"
      ]
     },
     "execution_count": 23,
     "metadata": {},
     "output_type": "execute_result"
    }
   ],
   "source": [
    "x[:3]"
   ]
  },
  {
   "cell_type": "code",
   "execution_count": 24,
   "id": "126846e4",
   "metadata": {},
   "outputs": [
    {
     "data": {
      "text/plain": [
       "[3, 4, 5, 6, 7, 8, 9]"
      ]
     },
     "execution_count": 24,
     "metadata": {},
     "output_type": "execute_result"
    }
   ],
   "source": [
    "x[3:]"
   ]
  },
  {
   "cell_type": "code",
   "execution_count": 25,
   "id": "494a0445",
   "metadata": {},
   "outputs": [
    {
     "data": {
      "text/plain": [
       "[1, 2, 3]"
      ]
     },
     "execution_count": 25,
     "metadata": {},
     "output_type": "execute_result"
    }
   ],
   "source": [
    "x[1:4]"
   ]
  },
  {
   "cell_type": "code",
   "execution_count": 26,
   "id": "f26300f9",
   "metadata": {},
   "outputs": [
    {
     "data": {
      "text/plain": [
       "[5, 6, 7, 8, 9]"
      ]
     },
     "execution_count": 26,
     "metadata": {},
     "output_type": "execute_result"
    }
   ],
   "source": [
    "x[-5:]"
   ]
  },
  {
   "cell_type": "code",
   "execution_count": 27,
   "id": "93c87719",
   "metadata": {},
   "outputs": [
    {
     "data": {
      "text/plain": [
       "[0, 1, 2, 3, 4, 5, 6, 7, 8, 9]"
      ]
     },
     "execution_count": 27,
     "metadata": {},
     "output_type": "execute_result"
    }
   ],
   "source": [
    "x[:]"
   ]
  },
  {
   "cell_type": "markdown",
   "id": "e5346656",
   "metadata": {},
   "source": [
    "A slice can have an optional third argument to represent the stride."
   ]
  },
  {
   "cell_type": "code",
   "execution_count": 28,
   "id": "69196f0f",
   "metadata": {},
   "outputs": [
    {
     "data": {
      "text/plain": [
       "[0, 2, 4, 6, 8]"
      ]
     },
     "execution_count": 28,
     "metadata": {},
     "output_type": "execute_result"
    }
   ],
   "source": [
    "x[::2]"
   ]
  },
  {
   "cell_type": "code",
   "execution_count": 29,
   "id": "ac7775bc",
   "metadata": {},
   "outputs": [
    {
     "data": {
      "text/plain": [
       "[9, 6, 3]"
      ]
     },
     "execution_count": 29,
     "metadata": {},
     "output_type": "execute_result"
    }
   ],
   "source": [
    "x[-1:1:-3]"
   ]
  },
  {
   "cell_type": "markdown",
   "id": "6fadc041",
   "metadata": {},
   "source": [
    "`in` operator checks for list membership"
   ]
  },
  {
   "cell_type": "code",
   "execution_count": 30,
   "id": "a8139d0f",
   "metadata": {},
   "outputs": [
    {
     "data": {
      "text/plain": [
       "True"
      ]
     },
     "execution_count": 30,
     "metadata": {},
     "output_type": "execute_result"
    }
   ],
   "source": [
    "1 in x"
   ]
  },
  {
   "cell_type": "code",
   "execution_count": 31,
   "id": "3466436d",
   "metadata": {},
   "outputs": [
    {
     "data": {
      "text/plain": [
       "False"
      ]
     },
     "execution_count": 31,
     "metadata": {},
     "output_type": "execute_result"
    }
   ],
   "source": [
    "80 in x"
   ]
  },
  {
   "cell_type": "markdown",
   "id": "d895726a",
   "metadata": {},
   "source": [
    "Lists can also be modified in multiple ways"
   ]
  },
  {
   "cell_type": "code",
   "execution_count": 32,
   "id": "18f855c0",
   "metadata": {},
   "outputs": [
    {
     "data": {
      "text/plain": [
       "[0, 1, 2, 3, 4, 5, 6, 7, 8, 9, 10, 11, 12]"
      ]
     },
     "execution_count": 32,
     "metadata": {},
     "output_type": "execute_result"
    }
   ],
   "source": [
    "x = [0,1,2,3,4,5,6,7,8,9]\n",
    "x.extend([10,11,12])\n",
    "x"
   ]
  },
  {
   "cell_type": "code",
   "execution_count": 33,
   "id": "c2d7b0a1",
   "metadata": {},
   "outputs": [
    {
     "data": {
      "text/plain": [
       "[0, 1, 2, 3, 4, 5, 6, 7, 8, 9, 10, 11, 12, 13, 14, 15]"
      ]
     },
     "execution_count": 33,
     "metadata": {},
     "output_type": "execute_result"
    }
   ],
   "source": [
    "y = x + [13,14,15]\n",
    "y"
   ]
  },
  {
   "cell_type": "code",
   "execution_count": 34,
   "id": "ab117ec0",
   "metadata": {},
   "outputs": [
    {
     "data": {
      "text/plain": [
       "[0, 1, 2, 3, 4, 5, 6, 7, 8, 9, 10, 11, 12]"
      ]
     },
     "execution_count": 34,
     "metadata": {},
     "output_type": "execute_result"
    }
   ],
   "source": [
    "x"
   ]
  },
  {
   "cell_type": "code",
   "execution_count": 35,
   "id": "4091053c",
   "metadata": {},
   "outputs": [
    {
     "data": {
      "text/plain": [
       "[0, 1, 2, 3, 4, 5, 6, 7, 8, 9, 10, 11, 12, 13]"
      ]
     },
     "execution_count": 35,
     "metadata": {},
     "output_type": "execute_result"
    }
   ],
   "source": [
    "x.append(13)\n",
    "x"
   ]
  },
  {
   "cell_type": "code",
   "execution_count": 36,
   "id": "16247571",
   "metadata": {},
   "outputs": [],
   "source": [
    "x,y = [1,2]"
   ]
  },
  {
   "cell_type": "code",
   "execution_count": 37,
   "id": "fc6ac740",
   "metadata": {},
   "outputs": [
    {
     "data": {
      "text/plain": [
       "1"
      ]
     },
     "execution_count": 37,
     "metadata": {},
     "output_type": "execute_result"
    }
   ],
   "source": [
    "x"
   ]
  },
  {
   "cell_type": "code",
   "execution_count": 38,
   "id": "8ce16289",
   "metadata": {},
   "outputs": [
    {
     "data": {
      "text/plain": [
       "2"
      ]
     },
     "execution_count": 38,
     "metadata": {},
     "output_type": "execute_result"
    }
   ],
   "source": [
    "y"
   ]
  },
  {
   "cell_type": "code",
   "execution_count": 39,
   "id": "23b6c56b",
   "metadata": {},
   "outputs": [],
   "source": [
    "_,y = [1,2]"
   ]
  },
  {
   "cell_type": "code",
   "execution_count": 40,
   "id": "1b80e13e",
   "metadata": {},
   "outputs": [
    {
     "data": {
      "text/plain": [
       "2"
      ]
     },
     "execution_count": 40,
     "metadata": {},
     "output_type": "execute_result"
    }
   ],
   "source": [
    "y"
   ]
  },
  {
   "cell_type": "markdown",
   "id": "1203d2af",
   "metadata": {},
   "source": [
    "### Tuples:\n",
    "\n",
    "Tuples are very similar to lists, but they can't be changed. Tuples are specified with parentheses or nothing."
   ]
  },
  {
   "cell_type": "code",
   "execution_count": 41,
   "id": "378d880b",
   "metadata": {},
   "outputs": [],
   "source": [
    "my_tuple = (1,2)\n",
    "other_tuple = 1,2"
   ]
  },
  {
   "cell_type": "markdown",
   "id": "45e4be3b",
   "metadata": {},
   "source": [
    "Tuples can return multiple values from a function"
   ]
  },
  {
   "cell_type": "code",
   "execution_count": 42,
   "id": "966e513f",
   "metadata": {},
   "outputs": [],
   "source": [
    "def sum_prod(x,y):\n",
    "    return(x+y),(x*y)"
   ]
  },
  {
   "cell_type": "code",
   "execution_count": 43,
   "id": "c5a15165",
   "metadata": {},
   "outputs": [
    {
     "data": {
      "text/plain": [
       "(8, 15)"
      ]
     },
     "execution_count": 43,
     "metadata": {},
     "output_type": "execute_result"
    }
   ],
   "source": [
    "sp = sum_prod(3,5)\n",
    "sp"
   ]
  },
  {
   "cell_type": "code",
   "execution_count": 44,
   "id": "ecca1431",
   "metadata": {},
   "outputs": [],
   "source": [
    "s,p = sum_prod(3,5)"
   ]
  },
  {
   "cell_type": "code",
   "execution_count": 45,
   "id": "abb0e320",
   "metadata": {},
   "outputs": [
    {
     "data": {
      "text/plain": [
       "8"
      ]
     },
     "execution_count": 45,
     "metadata": {},
     "output_type": "execute_result"
    }
   ],
   "source": [
    "s"
   ]
  },
  {
   "cell_type": "code",
   "execution_count": 46,
   "id": "fc2b774f",
   "metadata": {},
   "outputs": [
    {
     "data": {
      "text/plain": [
       "15"
      ]
     },
     "execution_count": 46,
     "metadata": {},
     "output_type": "execute_result"
    }
   ],
   "source": [
    "p"
   ]
  },
  {
   "cell_type": "code",
   "execution_count": 47,
   "id": "c1c764b6",
   "metadata": {},
   "outputs": [],
   "source": [
    "x,y = 1,2\n",
    "x,y = y,x"
   ]
  },
  {
   "cell_type": "markdown",
   "id": "c80f1a82",
   "metadata": {},
   "source": [
    "### Dictionaries:\n",
    "\n",
    "Dictionaries are another fundamental data structure in Python. Dictionaries associate *values* with *keys*."
   ]
  },
  {
   "cell_type": "code",
   "execution_count": 48,
   "id": "2b52835c",
   "metadata": {},
   "outputs": [
    {
     "data": {
      "text/plain": [
       "100"
      ]
     },
     "execution_count": 48,
     "metadata": {},
     "output_type": "execute_result"
    }
   ],
   "source": [
    "empty_dict = {}\n",
    "grades = {\"Karen\":100,\"Kevin\":50}\n",
    "grades['Karen']"
   ]
  },
  {
   "cell_type": "code",
   "execution_count": 49,
   "id": "ae000d53",
   "metadata": {},
   "outputs": [
    {
     "ename": "KeyError",
     "evalue": "'Keith'",
     "output_type": "error",
     "traceback": [
      "\u001b[0;31m---------------------------------------------------------------------------\u001b[0m",
      "\u001b[0;31mKeyError\u001b[0m                                  Traceback (most recent call last)",
      "\u001b[0;32m/var/folders/nr/56ng63fs5fj5_5jmzlvl6g0w0000gn/T/ipykernel_8371/2745741673.py\u001b[0m in \u001b[0;36m<module>\u001b[0;34m\u001b[0m\n\u001b[0;32m----> 1\u001b[0;31m \u001b[0mgrades\u001b[0m\u001b[0;34m[\u001b[0m\u001b[0;34m'Keith'\u001b[0m\u001b[0;34m]\u001b[0m\u001b[0;34m\u001b[0m\u001b[0;34m\u001b[0m\u001b[0m\n\u001b[0m",
      "\u001b[0;31mKeyError\u001b[0m: 'Keith'"
     ]
    }
   ],
   "source": [
    "grades['Keith']"
   ]
  },
  {
   "cell_type": "code",
   "execution_count": 50,
   "id": "84415d69",
   "metadata": {},
   "outputs": [
    {
     "data": {
      "text/plain": [
       "False"
      ]
     },
     "execution_count": 50,
     "metadata": {},
     "output_type": "execute_result"
    }
   ],
   "source": [
    "'Keith' in grades"
   ]
  },
  {
   "cell_type": "markdown",
   "id": "70a07b27",
   "metadata": {},
   "source": [
    "Dictionaries have a `get` option that returns a default value when a key isn't found, instead of returning an error."
   ]
  },
  {
   "cell_type": "code",
   "execution_count": 51,
   "id": "dcacf117",
   "metadata": {},
   "outputs": [
    {
     "data": {
      "text/plain": [
       "100"
      ]
     },
     "execution_count": 51,
     "metadata": {},
     "output_type": "execute_result"
    }
   ],
   "source": [
    "grades.get('Karen', 0)"
   ]
  },
  {
   "cell_type": "code",
   "execution_count": 52,
   "id": "08b9f1ef",
   "metadata": {},
   "outputs": [
    {
     "data": {
      "text/plain": [
       "70"
      ]
     },
     "execution_count": 52,
     "metadata": {},
     "output_type": "execute_result"
    }
   ],
   "source": [
    "grades.get('Keith', 70)"
   ]
  },
  {
   "cell_type": "code",
   "execution_count": 53,
   "id": "c03acfdf",
   "metadata": {},
   "outputs": [
    {
     "data": {
      "text/plain": [
       "dict_keys(['Karen', 'Kevin'])"
      ]
     },
     "execution_count": 53,
     "metadata": {},
     "output_type": "execute_result"
    }
   ],
   "source": [
    "grades.keys()"
   ]
  },
  {
   "cell_type": "code",
   "execution_count": 54,
   "id": "81b6cdd8",
   "metadata": {},
   "outputs": [
    {
     "data": {
      "text/plain": [
       "dict_values([100, 50])"
      ]
     },
     "execution_count": 54,
     "metadata": {},
     "output_type": "execute_result"
    }
   ],
   "source": [
    "grades.values()"
   ]
  },
  {
   "cell_type": "code",
   "execution_count": 55,
   "id": "9c42b788",
   "metadata": {},
   "outputs": [
    {
     "data": {
      "text/plain": [
       "dict_items([('Karen', 100), ('Kevin', 50)])"
      ]
     },
     "execution_count": 55,
     "metadata": {},
     "output_type": "execute_result"
    }
   ],
   "source": [
    "grades.items()"
   ]
  },
  {
   "cell_type": "markdown",
   "id": "930fa741",
   "metadata": {},
   "source": [
    "### Counters:\n",
    "\n",
    "A `Counter` turns values into a dictionary of counts, similar to the `table()` function in R."
   ]
  },
  {
   "cell_type": "code",
   "execution_count": 56,
   "id": "efa12def",
   "metadata": {},
   "outputs": [
    {
     "data": {
      "text/plain": [
       "Counter({'red': 2, 'blue': 1, 'green': 2})"
      ]
     },
     "execution_count": 56,
     "metadata": {},
     "output_type": "execute_result"
    }
   ],
   "source": [
    "Counter(['red', 'blue', 'green', 'green', 'red'])"
   ]
  },
  {
   "cell_type": "markdown",
   "id": "c231d853",
   "metadata": {},
   "source": [
    "### Sets:\n",
    "\n",
    "Sets represent an ordered collection of *distinct* elements."
   ]
  },
  {
   "cell_type": "code",
   "execution_count": 57,
   "id": "c593c165",
   "metadata": {},
   "outputs": [],
   "source": [
    "empty_dict = {}\n",
    "empty_set = set()"
   ]
  },
  {
   "cell_type": "code",
   "execution_count": 58,
   "id": "7e50a738",
   "metadata": {},
   "outputs": [
    {
     "data": {
      "text/plain": [
       "{1, 2, 3, 5, 7}"
      ]
     },
     "execution_count": 58,
     "metadata": {},
     "output_type": "execute_result"
    }
   ],
   "source": [
    "primes_lt_10 = {2,3,5,7}\n",
    "primes_lt_10.add(1)\n",
    "primes_lt_10.add(3)\n",
    "primes_lt_10"
   ]
  },
  {
   "cell_type": "code",
   "execution_count": 59,
   "id": "77d87336",
   "metadata": {},
   "outputs": [
    {
     "data": {
      "text/plain": [
       "{0, 1, 2, 3, 4, 5}"
      ]
     },
     "execution_count": 59,
     "metadata": {},
     "output_type": "execute_result"
    }
   ],
   "source": [
    "exp_list = [1,1,5,5,3,2,4,1,0,0]\n",
    "set(exp_list)"
   ]
  },
  {
   "cell_type": "markdown",
   "id": "12464801",
   "metadata": {},
   "source": [
    "### Loops:"
   ]
  },
  {
   "cell_type": "code",
   "execution_count": 60,
   "id": "34629024",
   "metadata": {},
   "outputs": [
    {
     "data": {
      "text/plain": [
       "'when all else fails, use else'"
      ]
     },
     "execution_count": 60,
     "metadata": {},
     "output_type": "execute_result"
    }
   ],
   "source": [
    "if 1>2:\n",
    "    message = 'if only this were true'\n",
    "elif 1>3:\n",
    "    message = 'one can dream'\n",
    "else:\n",
    "    message = 'when all else fails, use else'\n",
    "    \n",
    "\n",
    "message"
   ]
  },
  {
   "cell_type": "code",
   "execution_count": 61,
   "id": "984cf2c1",
   "metadata": {},
   "outputs": [
    {
     "data": {
      "text/plain": [
       "'odd'"
      ]
     },
     "execution_count": 61,
     "metadata": {},
     "output_type": "execute_result"
    }
   ],
   "source": [
    "#in line if else statements\n",
    "\n",
    "x=1\n",
    "message = 'even' if x%2 == 0 else 'odd'\n",
    "message"
   ]
  },
  {
   "cell_type": "code",
   "execution_count": 62,
   "id": "ab618665",
   "metadata": {},
   "outputs": [
    {
     "name": "stdout",
     "output_type": "stream",
     "text": [
      "0 is less than 10\n",
      "1 is less than 10\n",
      "2 is less than 10\n",
      "3 is less than 10\n",
      "4 is less than 10\n",
      "5 is less than 10\n",
      "6 is less than 10\n",
      "7 is less than 10\n",
      "8 is less than 10\n",
      "9 is less than 10\n"
     ]
    }
   ],
   "source": [
    "#while loops\n",
    "\n",
    "x=0\n",
    "while x<10:\n",
    "    print(f\"{x} is less than 10\")\n",
    "    x += 1"
   ]
  },
  {
   "cell_type": "code",
   "execution_count": 63,
   "id": "d66723fd",
   "metadata": {},
   "outputs": [
    {
     "name": "stdout",
     "output_type": "stream",
     "text": [
      "0 is less than 10\n",
      "1 is less than 10\n",
      "2 is less than 10\n",
      "3 is less than 10\n",
      "4 is less than 10\n",
      "5 is less than 10\n",
      "6 is less than 10\n",
      "7 is less than 10\n",
      "8 is less than 10\n",
      "9 is less than 10\n"
     ]
    }
   ],
   "source": [
    "# for loops\n",
    "#range(10) is 0...9\n",
    "\n",
    "for x in range(10):\n",
    "    print(f\"{x} is less than 10\")"
   ]
  },
  {
   "cell_type": "code",
   "execution_count": 64,
   "id": "83b8006b",
   "metadata": {},
   "outputs": [
    {
     "name": "stdout",
     "output_type": "stream",
     "text": [
      "0\n",
      "1\n",
      "2\n",
      "3\n",
      "4\n",
      "6\n",
      "7\n"
     ]
    }
   ],
   "source": [
    "for x in range(10):\n",
    "    if x == 5:\n",
    "        continue\n",
    "    if x == 8:\n",
    "        break\n",
    "    print(x)"
   ]
  },
  {
   "cell_type": "markdown",
   "id": "3ae92259",
   "metadata": {},
   "source": [
    "### Sorting:"
   ]
  },
  {
   "cell_type": "code",
   "execution_count": 65,
   "id": "af929f82",
   "metadata": {},
   "outputs": [
    {
     "data": {
      "text/plain": [
       "[1, 2, 3, 4, 5, 6]"
      ]
     },
     "execution_count": 65,
     "metadata": {},
     "output_type": "execute_result"
    }
   ],
   "source": [
    "x = [5,6,1,2,3,4]\n",
    "sorted(x)"
   ]
  },
  {
   "cell_type": "code",
   "execution_count": 66,
   "id": "25a71e89",
   "metadata": {},
   "outputs": [
    {
     "data": {
      "text/plain": [
       "[5, 6, 1, 2, 3, 4]"
      ]
     },
     "execution_count": 66,
     "metadata": {},
     "output_type": "execute_result"
    }
   ],
   "source": [
    "x"
   ]
  },
  {
   "cell_type": "code",
   "execution_count": 67,
   "id": "ea8d7952",
   "metadata": {},
   "outputs": [
    {
     "data": {
      "text/plain": [
       "[1, 2, 3, 4, 5, 6]"
      ]
     },
     "execution_count": 67,
     "metadata": {},
     "output_type": "execute_result"
    }
   ],
   "source": [
    "x.sort()\n",
    "x"
   ]
  },
  {
   "cell_type": "markdown",
   "id": "1dd30570",
   "metadata": {},
   "source": [
    "You can also sort in reverse order or sort based on the list's results of a function."
   ]
  },
  {
   "cell_type": "code",
   "execution_count": 68,
   "id": "fc677cd0",
   "metadata": {},
   "outputs": [
    {
     "data": {
      "text/plain": [
       "[5, 3, 2, 0, -1, -3, -4]"
      ]
     },
     "execution_count": 68,
     "metadata": {},
     "output_type": "execute_result"
    }
   ],
   "source": [
    "x = [-4,-1,-3,5,2,3,0]\n",
    "sorted(x, reverse=True)"
   ]
  },
  {
   "cell_type": "code",
   "execution_count": 69,
   "id": "ed55e9a4",
   "metadata": {},
   "outputs": [
    {
     "data": {
      "text/plain": [
       "[0, -1, 2, -3, 3, -4, 5]"
      ]
     },
     "execution_count": 69,
     "metadata": {},
     "output_type": "execute_result"
    }
   ],
   "source": [
    "sorted(x, key=abs)"
   ]
  },
  {
   "cell_type": "markdown",
   "id": "dc836da9",
   "metadata": {},
   "source": [
    "### List Comprehension:\n",
    "\n",
    "To transform a list into another list by choosing only certain elements, transforming elements, or both we will use *list comprehensions*."
   ]
  },
  {
   "cell_type": "code",
   "execution_count": 70,
   "id": "004ede40",
   "metadata": {},
   "outputs": [],
   "source": [
    "\n",
    "even_numbers = [x for x in range(5) if x % 2 == 0]  # [0, 2, 4]\n",
    "squares      = [x * x for x in range(5)]            # [0, 1, 4, 9, 16]\n",
    "even_squares = [x * x for x in even_numbers]        # [0, 4, 16]\n"
   ]
  },
  {
   "cell_type": "markdown",
   "id": "904c1a85",
   "metadata": {},
   "source": [
    "We can also turn lists into dictionaries and sets."
   ]
  },
  {
   "cell_type": "code",
   "execution_count": 71,
   "id": "09f0fb30",
   "metadata": {},
   "outputs": [],
   "source": [
    "\n",
    "square_dict = {x: x * x for x in range(5)}  # {0: 0, 1: 1, 2: 4, 3: 9, 4: 16}\n",
    "square_set  = {x * x for x in [1, -1]}      # {1}\n"
   ]
  },
  {
   "cell_type": "markdown",
   "id": "10951d47",
   "metadata": {},
   "source": [
    "List comprehension can include multiple for loops."
   ]
  },
  {
   "cell_type": "code",
   "execution_count": 72,
   "id": "8d81c99e",
   "metadata": {},
   "outputs": [],
   "source": [
    "pairs = [(x, y)\n",
    "         for x in range(10)\n",
    "         for y in range(10)]   # 100 pairs (0,0) (0,1) ... (9,8), (9,9)\n",
    "\n",
    "\n",
    "increasing_pairs = [(x, y)                       # only pairs with x < y,\n",
    "                    for x in range(10)           # range(lo, hi) equals\n",
    "                    for y in range(x + 1, 10)]   # [lo, lo + 1, ..., hi - 1]\n",
    "\n"
   ]
  },
  {
   "cell_type": "code",
   "execution_count": 73,
   "id": "7a4ca2fc",
   "metadata": {},
   "outputs": [
    {
     "data": {
      "text/plain": [
       "[(0, 0),\n",
       " (0, 1),\n",
       " (0, 2),\n",
       " (0, 3),\n",
       " (0, 4),\n",
       " (0, 5),\n",
       " (0, 6),\n",
       " (0, 7),\n",
       " (0, 8),\n",
       " (0, 9)]"
      ]
     },
     "execution_count": 73,
     "metadata": {},
     "output_type": "execute_result"
    }
   ],
   "source": [
    "pairs[:10]"
   ]
  },
  {
   "cell_type": "code",
   "execution_count": 74,
   "id": "bf9b876a",
   "metadata": {},
   "outputs": [
    {
     "data": {
      "text/plain": [
       "100"
      ]
     },
     "execution_count": 74,
     "metadata": {},
     "output_type": "execute_result"
    }
   ],
   "source": [
    "len(pairs)"
   ]
  },
  {
   "cell_type": "code",
   "execution_count": 75,
   "id": "3910abdb",
   "metadata": {},
   "outputs": [
    {
     "data": {
      "text/plain": [
       "[(0, 1),\n",
       " (0, 2),\n",
       " (0, 3),\n",
       " (0, 4),\n",
       " (0, 5),\n",
       " (0, 6),\n",
       " (0, 7),\n",
       " (0, 8),\n",
       " (0, 9),\n",
       " (1, 2)]"
      ]
     },
     "execution_count": 75,
     "metadata": {},
     "output_type": "execute_result"
    }
   ],
   "source": [
    "increasing_pairs[:10]"
   ]
  },
  {
   "cell_type": "code",
   "execution_count": 76,
   "id": "7821db26",
   "metadata": {},
   "outputs": [
    {
     "data": {
      "text/plain": [
       "45"
      ]
     },
     "execution_count": 76,
     "metadata": {},
     "output_type": "execute_result"
    }
   ],
   "source": [
    "len(increasing_pairs)"
   ]
  },
  {
   "cell_type": "markdown",
   "id": "ace94cae-3fda-42fb-a18e-8edbc643c693",
   "metadata": {},
   "source": [
    "### Object Oriented Programming:\n",
    "\n",
    "Python allows us to create *classes* that encapsulate data and the functions that operate on them. A class contains zero or more member functions which, by convention, each take `self` as the first argument that refers to the class instance. \n",
    "\n",
    "In this example, we'll construct a class representing a counting clicker, perhaps for attendace. It's functions are as follows:\n",
    "\n",
    "* it can be `clicked` to increment the count\n",
    "* it can output the current count with `read_count`\n",
    "* it can `reset` the count back to zero"
   ]
  },
  {
   "cell_type": "code",
   "execution_count": 77,
   "id": "8ce93272-f4c9-460d-a205-a2d13a7b1aab",
   "metadata": {},
   "outputs": [],
   "source": [
    "# defining the class\n",
    "class CountingClicker:\n",
    "    \n",
    "    def __init__(self, count = 0):      # initializing count to 0\n",
    "        self.count = count\n",
    "    def __repr__(self):                 # initializing count with a string\n",
    "        return f\"CountingClicker(count={self.count})\"\n",
    "    \n",
    "    def click(self, num_times = 1):\n",
    "        \"\"\"Click the clicker some number of times.\"\"\"\n",
    "        self.count += num_times\n",
    "\n",
    "    def read(self):\n",
    "        return self.count\n",
    "\n",
    "    def reset(self):\n",
    "        self.count = 0\n"
   ]
  },
  {
   "cell_type": "code",
   "execution_count": 78,
   "id": "95e60344-eb72-40e9-b0f1-f03a15e504e2",
   "metadata": {},
   "outputs": [
    {
     "data": {
      "text/plain": [
       "0"
      ]
     },
     "execution_count": 78,
     "metadata": {},
     "output_type": "execute_result"
    }
   ],
   "source": [
    "clicker = CountingClicker()\n",
    "clicker.read()"
   ]
  },
  {
   "cell_type": "code",
   "execution_count": 79,
   "id": "021b1040-5ee5-4f7a-b0bb-d0bc764fa2cd",
   "metadata": {},
   "outputs": [
    {
     "data": {
      "text/plain": [
       "3"
      ]
     },
     "execution_count": 79,
     "metadata": {},
     "output_type": "execute_result"
    }
   ],
   "source": [
    "clicker.click()      #click 3 times\n",
    "clicker.click()\n",
    "clicker.click()\n",
    "clicker.read()       "
   ]
  },
  {
   "cell_type": "code",
   "execution_count": 80,
   "id": "2de32f09-8c3e-4a2f-b039-e24e5e2aee93",
   "metadata": {},
   "outputs": [
    {
     "data": {
      "text/plain": [
       "0"
      ]
     },
     "execution_count": 80,
     "metadata": {},
     "output_type": "execute_result"
    }
   ],
   "source": [
    "clicker.reset()\n",
    "clicker.read()"
   ]
  },
  {
   "cell_type": "markdown",
   "id": "cd27c639-1852-4c1b-8597-a95d68a3bdd0",
   "metadata": {},
   "source": [
    "We can also create subclasses to edit the functionality of the original class. \n",
    "The subclass `NoResetClicker` will override the `reset` to do nothing. "
   ]
  },
  {
   "cell_type": "code",
   "execution_count": 81,
   "id": "9d5822c3-f686-4dbf-b255-54e17af2530f",
   "metadata": {},
   "outputs": [],
   "source": [
    "# A subclass inherits all the behavior of its parent class.\n",
    "class NoResetClicker(CountingClicker):\n",
    "    # This class has all the same methods as CountingClicker\n",
    "\n",
    "    # Except that it has a reset method that does nothing.\n",
    "    def reset(self):\n",
    "        pass\n",
    "\n"
   ]
  },
  {
   "cell_type": "code",
   "execution_count": 82,
   "id": "b87312e4-aaed-4c54-bcf5-84440a3ff34a",
   "metadata": {},
   "outputs": [
    {
     "data": {
      "text/plain": [
       "0"
      ]
     },
     "execution_count": 82,
     "metadata": {},
     "output_type": "execute_result"
    }
   ],
   "source": [
    "clicker2 = NoResetClicker()\n",
    "clicker2.read()"
   ]
  },
  {
   "cell_type": "code",
   "execution_count": 83,
   "id": "ed8c977b-80b0-42b1-97a9-8531fda16d6d",
   "metadata": {},
   "outputs": [
    {
     "data": {
      "text/plain": [
       "4"
      ]
     },
     "execution_count": 83,
     "metadata": {},
     "output_type": "execute_result"
    }
   ],
   "source": [
    "clicker2.click()\n",
    "clicker2.click()\n",
    "clicker2.click()\n",
    "clicker2.click()\n",
    "clicker2.read()"
   ]
  },
  {
   "cell_type": "code",
   "execution_count": 85,
   "id": "e050c8ca-3d2d-47db-ab5f-2442740d26f8",
   "metadata": {},
   "outputs": [
    {
     "data": {
      "text/plain": [
       "4"
      ]
     },
     "execution_count": 85,
     "metadata": {},
     "output_type": "execute_result"
    }
   ],
   "source": [
    "clicker2.reset()      #this shouldn't do anything\n",
    "clicker2.read()"
   ]
  },
  {
   "cell_type": "markdown",
   "id": "daa51002-e6f6-4a05-a6a6-31d9510892c2",
   "metadata": {},
   "source": [
    "### Generators and Iterables:\n",
    "\n",
    "Instead of storing entire collections of values within lists, we can simply generate their values on demand. "
   ]
  },
  {
   "cell_type": "code",
   "execution_count": 86,
   "id": "7cd12b2e-9a94-48d6-b0e8-85c9aa3c7066",
   "metadata": {},
   "outputs": [
    {
     "name": "stdout",
     "output_type": "stream",
     "text": [
      "i: 0\n",
      "i: 1\n",
      "i: 2\n",
      "i: 3\n",
      "i: 4\n",
      "i: 5\n",
      "i: 6\n",
      "i: 7\n",
      "i: 8\n",
      "i: 9\n"
     ]
    }
   ],
   "source": [
    "def generate_range(n):\n",
    "    i = 0\n",
    "    while i < n:\n",
    "        yield i   # every call to yield produces a value of the generator\n",
    "        i += 1\n",
    "\n",
    "for i in generate_range(10):\n",
    "    print(f\"i: {i}\")\n"
   ]
  },
  {
   "cell_type": "code",
   "execution_count": 87,
   "id": "bf66eeb6-e27a-48e3-ba86-6ce0fa9e6181",
   "metadata": {},
   "outputs": [],
   "source": [
    "\n",
    "def natural_numbers():\n",
    "    \"\"\"returns 1, 2, 3, ...\"\"\"\n",
    "    n = 1\n",
    "    while True:\n",
    "        yield n\n",
    "        n += 1\n",
    "\n",
    "evens_below_20 = (i for i in generate_range(20) if i % 2 == 0)\n",
    "\n",
    "# None of these computations *does* anything until we iterate\n",
    "data = natural_numbers()\n",
    "evens = (x for x in data if x % 2 == 0)\n",
    "even_squares = (x ** 2 for x in evens)\n",
    "even_squares_ending_in_six = (x for x in even_squares if x % 10 == 6)\n",
    "# and so on\n"
   ]
  },
  {
   "cell_type": "markdown",
   "id": "6e78fd52-5f44-40d0-a004-f28d3c3f88a3",
   "metadata": {},
   "source": [
    "Python's `enumerate` function allows us to return both the index and the value simultaneously as an `(index, value)` pair. "
   ]
  },
  {
   "cell_type": "code",
   "execution_count": 88,
   "id": "22ce7d40-e3dd-4697-af0f-d5bec4dc78a7",
   "metadata": {},
   "outputs": [
    {
     "name": "stdout",
     "output_type": "stream",
     "text": [
      "name 0 is Alice\n",
      "name 1 is Bob\n",
      "name 2 is Charlie\n",
      "name 3 is Debbie\n"
     ]
    }
   ],
   "source": [
    "names = [\"Alice\", \"Bob\", \"Charlie\", \"Debbie\"]\n",
    "\n",
    "for i, name in enumerate(names):\n",
    "    print(f\"name {i} is {name}\")\n"
   ]
  },
  {
   "cell_type": "markdown",
   "id": "bbb8b2b9-beb2-433a-8a8f-5fb64556d84e",
   "metadata": {},
   "source": [
    "### Random Numbers:"
   ]
  },
  {
   "cell_type": "markdown",
   "id": "3184e464-6e1b-4662-891f-00019cba22c8",
   "metadata": {},
   "source": [
    "Random numbers will likely need to be generated fairly often. This can be done with Python's `random` package."
   ]
  },
  {
   "cell_type": "code",
   "execution_count": 90,
   "id": "c08b9dc8-5696-481a-b1a0-f48f0b075058",
   "metadata": {},
   "outputs": [
    {
     "data": {
      "text/plain": [
       "[0.5714025946899135,\n",
       " 0.4288890546751146,\n",
       " 0.5780913011344704,\n",
       " 0.20609823213950174]"
      ]
     },
     "execution_count": 90,
     "metadata": {},
     "output_type": "execute_result"
    }
   ],
   "source": [
    "\n",
    "import random\n",
    "random.seed(10)  # this ensures we get the same results every time\n",
    "\n",
    "[random.random() for _ in range(4)]  #generates random values between [0,1]\n"
   ]
  },
  {
   "cell_type": "code",
   "execution_count": 91,
   "id": "3b13fac4-48c2-4620-9462-6869ec23377f",
   "metadata": {},
   "outputs": [
    {
     "data": {
      "text/plain": [
       "4"
      ]
     },
     "execution_count": 91,
     "metadata": {},
     "output_type": "execute_result"
    }
   ],
   "source": [
    "\n",
    "random.randrange(10)    # choose randomly from range(10) = [0, 1, ..., 9]\n",
    "random.randrange(3, 6)  # choose randomly from range(3, 6) = [3, 4, 5]\n"
   ]
  },
  {
   "cell_type": "markdown",
   "id": "cbbdd84b-3d3b-4a3b-b5c8-099c975a1459",
   "metadata": {},
   "source": [
    "We can also use the `shuffle` function to randomly shuffle a list"
   ]
  },
  {
   "cell_type": "code",
   "execution_count": 92,
   "id": "3820dff4-cf63-46e0-93bd-d2d9341bf9c3",
   "metadata": {},
   "outputs": [
    {
     "name": "stdout",
     "output_type": "stream",
     "text": [
      "[4, 5, 6, 7, 2, 9, 10, 8, 1, 3]\n"
     ]
    }
   ],
   "source": [
    "up_to_ten = [1, 2, 3, 4, 5, 6, 7, 8, 9, 10]\n",
    "random.shuffle(up_to_ten)\n",
    "print(up_to_ten)\n"
   ]
  },
  {
   "cell_type": "markdown",
   "id": "b28ccc63-8518-422b-a57a-c5956ec3e552",
   "metadata": {},
   "source": [
    "The `choice` function lets us randomly select *one* element of a list."
   ]
  },
  {
   "cell_type": "code",
   "execution_count": 94,
   "id": "aa5ce95a-91c5-4512-9497-3c926260e84b",
   "metadata": {},
   "outputs": [
    {
     "data": {
      "text/plain": [
       "'Alice'"
      ]
     },
     "execution_count": 94,
     "metadata": {},
     "output_type": "execute_result"
    }
   ],
   "source": [
    "random.choice([\"Alice\", \"Bob\", \"Charlie\"]) "
   ]
  },
  {
   "cell_type": "markdown",
   "id": "83f7c731-547b-4793-8189-e7104266514b",
   "metadata": {},
   "source": [
    "The `sample` function can be used to choose a random sample of elements from a list without replacement. This means that the sample size can't be larger than the list. "
   ]
  },
  {
   "cell_type": "code",
   "execution_count": 96,
   "id": "b351fa01-92c0-4da9-89fc-407bc5467060",
   "metadata": {},
   "outputs": [
    {
     "data": {
      "text/plain": [
       "[38, 22, 24, 26, 18, 52]"
      ]
     },
     "execution_count": 96,
     "metadata": {},
     "output_type": "execute_result"
    }
   ],
   "source": [
    "lottery_numbers = range(60)\n",
    "random.sample(lottery_numbers, 6)"
   ]
  },
  {
   "cell_type": "markdown",
   "id": "cb930b80-802d-439f-99d2-9398abdf18ac",
   "metadata": {},
   "source": [
    "If we wanted to take a sample *with* replacement, we could just use the `choice` function multiple times."
   ]
  },
  {
   "cell_type": "code",
   "execution_count": 97,
   "id": "632408dd-b1ff-4456-9768-346ae275b88a",
   "metadata": {},
   "outputs": [
    {
     "data": {
      "text/plain": [
       "[4, 7, 2, 4]"
      ]
     },
     "execution_count": 97,
     "metadata": {},
     "output_type": "execute_result"
    }
   ],
   "source": [
    "[random.choice(range(10)) for _ in range(4)]"
   ]
  },
  {
   "cell_type": "markdown",
   "id": "88430db5-5c55-473b-a544-43326ffeb259",
   "metadata": {
    "jp-MarkdownHeadingCollapsed": true,
    "tags": []
   },
   "source": [
    "## Chapter 3: Visualizing Data"
   ]
  },
  {
   "cell_type": "markdown",
   "id": "a72e813d-6187-4f08-8802-d47710bd95bf",
   "metadata": {},
   "source": [
    "There are two main uses for data visualization\n",
    "* To explore data\n",
    "* To communicate data"
   ]
  },
  {
   "cell_type": "markdown",
   "id": "03e97bb0-ce27-4c4a-a2a4-facb0f79a8ba",
   "metadata": {},
   "source": [
    "The `matplotlib.pyplot` module allows us to build a visualization step by step then either save it with `savefig` or display it with `show`."
   ]
  },
  {
   "cell_type": "code",
   "execution_count": 103,
   "id": "1c4e15ce-2e4b-4e66-9b2c-1a8727e1eab6",
   "metadata": {},
   "outputs": [
    {
     "data": {
      "image/png": "[encoded data removed]",
      "text/plain": [
       "<Figure size 432x288 with 1 Axes>"
      ]
     },
     "metadata": {
      "needs_background": "light"
     },
     "output_type": "display_data"
    }
   ],
   "source": [
    "from matplotlib import pyplot as plt\n",
    "\n",
    "years = [1950, 1960, 1970, 1980, 1990, 2000, 2010]\n",
    "gdp = [300.2, 543.3, 1075.9, 2862.5, 5979.6, 10289.7, 14958.3]\n",
    "\n",
    "# create a line chart, years on x-axis, gdp on y-axis\n",
    "plt.plot(years, gdp, color='green', marker='o', linestyle='solid')\n",
    "\n",
    "# add a title\n",
    "plt.title(\"Nominal GDP\")\n",
    "\n",
    "# add a label to the y-axis\n",
    "plt.ylabel(\"Billions of $\")\n",
    "plt.xlabel(\"Year\")\n",
    "plt.show()\n"
   ]
  },
  {
   "cell_type": "markdown",
   "id": "96356cfd-23ec-45e8-8160-b5be593c2654",
   "metadata": {},
   "source": [
    "### Bar Charts"
   ]
  },
  {
   "cell_type": "code",
   "execution_count": 105,
   "id": "7a3cc693-c52d-4d02-8f50-25bf103fa099",
   "metadata": {},
   "outputs": [
    {
     "data": {
      "image/png": "[encoded data removed]",
      "text/plain": [
       "<Figure size 432x288 with 1 Axes>"
      ]
     },
     "metadata": {
      "needs_background": "light"
     },
     "output_type": "display_data"
    }
   ],
   "source": [
    "\n",
    "movies = [\"Annie Hall\", \"Ben-Hur\", \"Casablanca\", \"Gandhi\", \"West Side Story\"]\n",
    "num_oscars = [5, 11, 3, 8, 10]\n",
    "\n",
    "# plot bars with left x-coordinates [0, 1, 2, 3, 4], heights [num_oscars]\n",
    "plt.bar(range(len(movies)), num_oscars)\n",
    "\n",
    "plt.title(\"My Favorite Movies\")     # add a title\n",
    "plt.ylabel(\"# of Academy Awards\")   # label the y-axis\n",
    "\n",
    "# label x-axis with movie names at bar centers\n",
    "plt.xticks(range(len(movies)), movies)\n",
    "\n",
    "plt.show()\n"
   ]
  },
  {
   "cell_type": "code",
   "execution_count": 116,
   "id": "7ff5d8b5-8658-4bdd-80d0-7959f2169a2a",
   "metadata": {},
   "outputs": [
    {
     "data": {
      "text/plain": [
       "Text(0.5, 1.0, 'Distribution of Exam 1 Grades')"
      ]
     },
     "execution_count": 116,
     "metadata": {},
     "output_type": "execute_result"
    },
    {
     "data": {
      "image/png": "[encoded data removed]",
      "text/plain": [
       "<Figure size 432x288 with 1 Axes>"
      ]
     },
     "metadata": {
      "needs_background": "light"
     },
     "output_type": "display_data"
    }
   ],
   "source": [
    "# hist function??\n",
    "\n",
    "\n",
    "from collections import Counter\n",
    "grades = [83, 95, 91, 87, 70, 0, 85, 82, 100, 67, 73, 77, 0]\n",
    "\n",
    "# Bucket grades by decile, but put 100 in with the 90s\n",
    "histogram = Counter(min(grade // 10 * 10, 90) for grade in grades)\n",
    "\n",
    "plt.bar([x + 5 for x in histogram.keys()],  # Shift bars right by 5\n",
    "        histogram.values(),                 # Give each bar its correct height\n",
    "        10,                                 # Give each bar a width of 8\n",
    "        edgecolor=(0, 0, 0))                # Black edges for each bar\n",
    "\n",
    "plt.axis([-5, 105, 0, 5])                  # x-axis from -5 to 105,\n",
    "                                           # y-axis from 0 to 5\n",
    "\n",
    "plt.xticks([10 * i for i in range(11)])    # x-axis labels at 0, 10, ..., 100\n",
    "plt.xlabel(\"Decile\")\n",
    "plt.ylabel(\"# of Students\")\n",
    "plt.title(\"Distribution of Exam 1 Grades\")\n",
    "#plt.show()\n",
    "\n"
   ]
  },
  {
   "cell_type": "markdown",
   "id": "a25be9dc-5239-4374-b547-0efe1469d1f3",
   "metadata": {},
   "source": [
    "### Line Charts"
   ]
  },
  {
   "cell_type": "code",
   "execution_count": 107,
   "id": "9f6eaab3-03b2-42ca-9ea7-101c6da8cf5d",
   "metadata": {},
   "outputs": [
    {
     "data": {
      "image/png": "[encoded data removed]",
      "text/plain": [
       "<Figure size 432x288 with 1 Axes>"
      ]
     },
     "metadata": {
      "needs_background": "light"
     },
     "output_type": "display_data"
    }
   ],
   "source": [
    "\n",
    "variance     = [1, 2, 4, 8, 16, 32, 64, 128, 256]\n",
    "bias_squared = [256, 128, 64, 32, 16, 8, 4, 2, 1]\n",
    "total_error  = [x + y for x, y in zip(variance, bias_squared)]\n",
    "xs = [i for i, _ in enumerate(variance)]\n",
    "\n",
    "# We can make multiple calls to plt.plot\n",
    "# to show multiple series on the same chart\n",
    "plt.plot(xs, variance,     'g-',  label='variance')    # green solid line\n",
    "plt.plot(xs, bias_squared, 'r-.', label='bias^2')      # red dot-dashed line\n",
    "plt.plot(xs, total_error,  'b:',  label='total error') # blue dotted line\n",
    "\n",
    "# Because we've assigned labels to each series,\n",
    "# we can get a legend for free (loc=9 means \"top center\")\n",
    "plt.legend(loc=9)\n",
    "plt.xlabel(\"model complexity\")\n",
    "plt.xticks([])\n",
    "plt.title(\"The Bias-Variance Tradeoff\")\n",
    "plt.show()\n",
    "\n"
   ]
  },
  {
   "cell_type": "markdown",
   "id": "37d71d8d-5315-4978-a3c3-481e24526355",
   "metadata": {},
   "source": [
    "### Scatterplots"
   ]
  },
  {
   "cell_type": "code",
   "execution_count": 108,
   "id": "3cabca13-7796-4fd0-8a34-cb8d374c698b",
   "metadata": {},
   "outputs": [
    {
     "data": {
      "image/png": "[encoded data removed]",
      "text/plain": [
       "<Figure size 432x288 with 1 Axes>"
      ]
     },
     "metadata": {
      "needs_background": "light"
     },
     "output_type": "display_data"
    }
   ],
   "source": [
    "\n",
    "friends = [ 70,  65,  72,  63,  71,  64,  60,  64,  67]\n",
    "minutes = [175, 170, 205, 120, 220, 130, 105, 145, 190]\n",
    "labels =  ['a', 'b', 'c', 'd', 'e', 'f', 'g', 'h', 'i']\n",
    "\n",
    "plt.scatter(friends, minutes)\n",
    "\n",
    "# label each point\n",
    "for label, friend_count, minute_count in zip(labels, friends, minutes):\n",
    "    plt.annotate(label,\n",
    "        xy=(friend_count, minute_count), # Put the label with its point\n",
    "        xytext=(5, -5),                  # but slightly offset\n",
    "        textcoords='offset points')\n",
    "\n",
    "plt.title(\"Daily Minutes vs. Number of Friends\")\n",
    "plt.xlabel(\"# of friends\")\n",
    "plt.ylabel(\"daily minutes spent on the site\")\n",
    "plt.show()\n",
    "\n"
   ]
  },
  {
   "cell_type": "code",
   "execution_count": 109,
   "id": "65cd2cef-d8f5-492e-9860-132d30946f88",
   "metadata": {},
   "outputs": [
    {
     "data": {
      "image/png": "[encoded data removed]",
      "text/plain": [
       "<Figure size 432x288 with 1 Axes>"
      ]
     },
     "metadata": {
      "needs_background": "light"
     },
     "output_type": "display_data"
    }
   ],
   "source": [
    "\n",
    "test_1_grades = [ 99, 90, 85, 97, 80]\n",
    "test_2_grades = [100, 85, 60, 90, 70]\n",
    "\n",
    "plt.scatter(test_1_grades, test_2_grades)\n",
    "plt.title(\"Axes Aren't Comparable\")\n",
    "plt.xlabel(\"test 1 grade\")\n",
    "plt.ylabel(\"test 2 grade\")\n",
    "plt.show()\n",
    "\n"
   ]
  },
  {
   "cell_type": "code",
   "execution_count": 110,
   "id": "b99fc0f7-16a9-4253-bfc1-cf305bad20bc",
   "metadata": {},
   "outputs": [
    {
     "data": {
      "image/png": "[encoded data removed]",
      "text/plain": [
       "<Figure size 432x288 with 1 Axes>"
      ]
     },
     "metadata": {
      "needs_background": "light"
     },
     "output_type": "display_data"
    }
   ],
   "source": [
    "\n",
    "test_1_grades = [ 99, 90, 85, 97, 80]\n",
    "test_2_grades = [100, 85, 60, 90, 70]\n",
    "plt.scatter(test_1_grades, test_2_grades)\n",
    "plt.title(\"Axes Are Comparable\")\n",
    "plt.axis(\"equal\")\n",
    "plt.xlabel(\"test 1 grade\")\n",
    "plt.ylabel(\"test 2 grade\")\n",
    "plt.show()"
   ]
  },
  {
   "cell_type": "markdown",
   "id": "19121ca5-8003-45eb-b377-4bb5a56c6c81",
   "metadata": {},
   "source": [
    "### Histograms (from [matplotlib website](https://matplotlib.org/stable/plot_types/index.html))"
   ]
  },
  {
   "cell_type": "code",
   "execution_count": 115,
   "id": "84a9b0d1-2555-405d-86b5-615541628858",
   "metadata": {},
   "outputs": [
    {
     "data": {
      "image/png": "[encoded data removed]",
      "text/plain": [
       "<Figure size 432x288 with 1 Axes>"
      ]
     },
     "metadata": {
      "needs_background": "light"
     },
     "output_type": "display_data"
    }
   ],
   "source": [
    "import matplotlib.pyplot as plt\n",
    "import numpy as np\n",
    "\n",
    "#plt.style.use('_mpl-gallery')\n",
    "\n",
    "# make data\n",
    "np.random.seed(1)\n",
    "x = 4 + np.random.normal(0, 1.5, 200)\n",
    "\n",
    "# plot:\n",
    "fig, ax = plt.subplots()\n",
    "\n",
    "ax.hist(x, bins=8, linewidth=0.5, edgecolor=\"white\")\n",
    "\n",
    "#ax.set(xlim=(0, 8), xticks=np.arange(1, 8),\n",
    "#       ylim=(0, 56), yticks=np.linspace(0, 56, 9))\n",
    "\n",
    "plt.show()\n"
   ]
  },
  {
   "cell_type": "markdown",
   "id": "381f4b75-0af0-4945-86a4-f29d41073254",
   "metadata": {},
   "source": [
    "### Boxplots (from [matplotlib website](https://matplotlib.org/stable/plot_types/index.html))"
   ]
  },
  {
   "cell_type": "code",
   "execution_count": 114,
   "id": "51cb4d32-1f7a-4f2e-800a-4f181ae7c70a",
   "metadata": {},
   "outputs": [
    {
     "data": {
      "image/png": "[encoded data removed]",
      "text/plain": [
       "<Figure size 432x288 with 1 Axes>"
      ]
     },
     "metadata": {
      "needs_background": "light"
     },
     "output_type": "display_data"
    }
   ],
   "source": [
    "import matplotlib.pyplot as plt\n",
    "import numpy as np\n",
    "\n",
    "#plt.style.use('_mpl-gallery')\n",
    "\n",
    "# make data:\n",
    "np.random.seed(10)\n",
    "D = np.random.normal((3, 5, 4), (1.25, 1.00, 1.25), (100, 3))\n",
    "\n",
    "# plot\n",
    "fig, ax = plt.subplots()\n",
    "VP = ax.boxplot(D, positions=[2, 4, 6], widths=1.5, patch_artist=True,\n",
    "                showmeans=False, showfliers=False,\n",
    "                medianprops={\"color\": \"white\", \"linewidth\": 0.5},\n",
    "                boxprops={\"facecolor\": \"C0\", \"edgecolor\": \"white\",\n",
    "                          \"linewidth\": 0.5},\n",
    "                whiskerprops={\"color\": \"C0\", \"linewidth\": 1.5},\n",
    "                capprops={\"color\": \"C0\", \"linewidth\": 1.5})\n",
    "\n",
    "#ax.set(xlim=(0, 8), xticks=np.arange(1, 8),\n",
    "#       ylim=(0, 8), yticks=np.arange(1, 8))\n",
    "\n",
    "plt.show()"
   ]
  },
  {
   "cell_type": "markdown",
   "id": "7c0ae998-2037-4589-bdb9-88ba2761537e",
   "metadata": {
    "jp-MarkdownHeadingCollapsed": true,
    "tags": []
   },
   "source": [
    "## Chapter 9: Getting Data"
   ]
  },
  {
   "cell_type": "markdown",
   "id": "a14853c6-aa66-4f3b-85e7-072be8cd7b35",
   "metadata": {},
   "source": [
    "In Python, we are able to read in data from many sources. For example:\n",
    "* std in / piped output\n",
    "* comma or tab-delimited files\n",
    "* websites\n",
    "* APIs"
   ]
  },
  {
   "cell_type": "markdown",
   "id": "84266428-8bc5-4c85-97dd-a208d71972f5",
   "metadata": {},
   "source": [
    "### Reading in Files:"
   ]
  },
  {
   "cell_type": "code",
   "execution_count": 6,
   "id": "09fb945f-8d8f-4bcf-94f0-378094bd33d1",
   "metadata": {},
   "outputs": [],
   "source": [
    "# adds single lines to a file\n",
    "with open('email_addresses.txt', 'w') as f:\n",
    "    f.write(\"joelgrus@gmail.com\\n\")\n",
    "    f.write(\"joel@m.datasciencester.com\\n\")\n",
    "    f.write(\"joelgrus@m.datasciencester.com\\n\")\n",
    "\n",
    "def get_domain(email_address: str) -> str:\n",
    "    \"\"\"Split on '@' and return the last piece\"\"\"\n",
    "    return email_address.lower().split(\"@\")[-1]\n"
   ]
  },
  {
   "cell_type": "code",
   "execution_count": 2,
   "id": "57f1a009-6906-4843-8951-16794609fa53",
   "metadata": {},
   "outputs": [
    {
     "data": {
      "text/plain": [
       "'gmail.com'"
      ]
     },
     "execution_count": 2,
     "metadata": {},
     "output_type": "execute_result"
    }
   ],
   "source": [
    "get_domain('joelgrus@gmail.com')"
   ]
  },
  {
   "cell_type": "code",
   "execution_count": 3,
   "id": "51821090-9bf5-4c19-91d6-10caf6a6dbda",
   "metadata": {},
   "outputs": [
    {
     "data": {
      "text/plain": [
       "'gmail.com'"
      ]
     },
     "execution_count": 3,
     "metadata": {},
     "output_type": "execute_result"
    }
   ],
   "source": [
    "get_domain('karenfunderburk94@gmail.com')"
   ]
  },
  {
   "cell_type": "code",
   "execution_count": 5,
   "id": "d16ff28d-9212-4915-bb33-80457e82832f",
   "metadata": {},
   "outputs": [
    {
     "name": "stdout",
     "output_type": "stream",
     "text": [
      "Counter({'m.datasciencester.com': 2, 'gmail.com': 1})\n"
     ]
    }
   ],
   "source": [
    "from collections import Counter\n",
    "\n",
    "with open('email_addresses.txt', 'r') as f:\n",
    "    domain_counts = Counter(get_domain(line.strip())\n",
    "                            for line in f\n",
    "                            if \"@\" in line)\n",
    "    print(domain_counts)\n",
    "\n"
   ]
  },
  {
   "cell_type": "code",
   "execution_count": 7,
   "id": "baf6861d-4004-4f25-8ff5-d8fc38590628",
   "metadata": {},
   "outputs": [],
   "source": [
    "#adding tab-delimited lines to a file\n",
    "with open('tab_delimited_stock_prices.txt', 'w') as f:\n",
    "    f.write(\"\"\"6/20/2014\\tAAPL\\t90.91\n",
    "6/20/2014\\tMSFT\\t41.68\n",
    "6/20/2014\\tFB\\t64.5\n",
    "6/19/2014\\tAAPL\\t91.86\n",
    "6/19/2014\\tMSFT\\t41.51\n",
    "6/19/2014\\tFB\\t64.34\n",
    "\"\"\")"
   ]
  },
  {
   "cell_type": "code",
   "execution_count": 8,
   "id": "941f559e-ac4c-4b37-a1df-5172a3f46802",
   "metadata": {},
   "outputs": [],
   "source": [
    "def process(date: str, symbol: str, closing_price: float) -> None:\n",
    "    # Imaginge that this function actually does something.\n",
    "    assert closing_price > 0.0\n",
    "\n",
    "import csv\n",
    "\n",
    "with open('tab_delimited_stock_prices.txt') as f:\n",
    "    tab_reader = csv.reader(f, delimiter='\\t')\n",
    "    for row in tab_reader:\n",
    "        date = row[0]\n",
    "        symbol = row[1]\n",
    "        closing_price = float(row[2])\n",
    "        process(date, symbol, closing_price)\n"
   ]
  },
  {
   "cell_type": "markdown",
   "id": "8eb9ae7b-883b-4c95-b895-089b20023d9f",
   "metadata": {},
   "source": [
    "We can also read in files and store them as dictionaries using `DictReader`"
   ]
  },
  {
   "cell_type": "code",
   "execution_count": 9,
   "id": "f878f35b-95a2-41e2-894f-2c7298be9cad",
   "metadata": {},
   "outputs": [],
   "source": [
    "with open('colon_delimited_stock_prices.txt', 'w') as f:\n",
    "    f.write(\"\"\"date:symbol:closing_price\n",
    "6/20/2014:AAPL:90.91\n",
    "6/20/2014:MSFT:41.68\n",
    "6/20/2014:FB:64.5\n",
    "\"\"\")\n",
    "\n",
    "\n",
    "with open('colon_delimited_stock_prices.txt') as f:\n",
    "    colon_reader = csv.DictReader(f, delimiter=':')\n",
    "    for dict_row in colon_reader:\n",
    "        date = dict_row[\"date\"]\n",
    "        symbol = dict_row[\"symbol\"]\n",
    "        closing_price = float(dict_row[\"closing_price\"])\n",
    "        process(date, symbol, closing_price)\n"
   ]
  },
  {
   "cell_type": "markdown",
   "id": "288e75fc-a64c-4378-b952-543dfda52ff8",
   "metadata": {},
   "source": [
    "### Web Scraping:\n",
    "\n",
    "When data isn't available locally, we can download data from the web by extracting the HTML code. It may be difficult to get anything meaningful using this method since some HTML code isn't very well formatted or annotated. For that reason, we'll be using the [html5lib](https://pypi.org/project/html5lib/) for parsing the html code, the [Beautiful Soup](https://www.crummy.com/software/BeautifulSoup/bs4/doc/) library for building html trees, and the [Requests](https://docs.python-requests.org/en/latest/) library to make HTTP requests."
   ]
  },
  {
   "cell_type": "code",
   "execution_count": 4,
   "id": "c2bc7509-dd07-407d-b9f1-6e500da5cd70",
   "metadata": {},
   "outputs": [],
   "source": [
    "from bs4 import BeautifulSoup\n",
    "import requests"
   ]
  },
  {
   "cell_type": "code",
   "execution_count": 16,
   "id": "c95d7a8e-ca80-4b37-afe2-f8faaf218b12",
   "metadata": {},
   "outputs": [],
   "source": [
    "url = (\"https://raw.githubusercontent.com/\"\n",
    "       \"joelgrus/data/master/getting-data.html\")\n",
    "html = requests.get(url).text\n",
    "soup = BeautifulSoup(html, 'html5lib')\n",
    "\n",
    "#html"
   ]
  },
  {
   "cell_type": "code",
   "execution_count": 18,
   "id": "a883fb35-4f5a-4348-b2f7-8b644a030505",
   "metadata": {},
   "outputs": [
    {
     "data": {
      "text/plain": [
       "<!DOCTYPE html>\n",
       "<html lang=\"en-US\"><head>\n",
       "    <title>Getting Data</title>\n",
       "    <meta charset=\"utf-8\"/>\n",
       "</head>\n",
       "<body>\n",
       "    <h1>Getting Data</h1>\n",
       "    <div class=\"explanation\">\n",
       "        This is an explanation.\n",
       "    </div>\n",
       "    <div class=\"comment\">\n",
       "        This is a comment.\n",
       "    </div>\n",
       "    <div class=\"content\">\n",
       "        <p id=\"p1\">This is the first paragraph.</p>\n",
       "        <p class=\"important\">This is the second paragraph.</p>\n",
       "    </div>\n",
       "    <div class=\"signature\">\n",
       "        <span id=\"name\">Joel</span>\n",
       "        <span id=\"twitter\">@joelgrus</span>\n",
       "        <span id=\"email\">joelgrus-at-gmail</span>\n",
       "    </div>\n",
       "\n",
       "\n",
       "</body></html>"
      ]
     },
     "execution_count": 18,
     "metadata": {},
     "output_type": "execute_result"
    }
   ],
   "source": [
    "soup"
   ]
  },
  {
   "cell_type": "code",
   "execution_count": 8,
   "id": "337c8476-157d-4f20-8e8c-f1835940ad86",
   "metadata": {},
   "outputs": [
    {
     "data": {
      "text/plain": [
       "<p id=\"p1\">This is the first paragraph.</p>"
      ]
     },
     "execution_count": 8,
     "metadata": {},
     "output_type": "execute_result"
    }
   ],
   "source": [
    "first_paragraph = soup.find('p')        # or just soup.p\n",
    "first_paragraph"
   ]
  },
  {
   "cell_type": "code",
   "execution_count": 9,
   "id": "678943d5-5edd-4418-ba89-9d7c1f2c889e",
   "metadata": {},
   "outputs": [
    {
     "data": {
      "text/plain": [
       "'This is the first paragraph.'"
      ]
     },
     "execution_count": 9,
     "metadata": {},
     "output_type": "execute_result"
    }
   ],
   "source": [
    "first_paragraph_text = soup.p.text\n",
    "first_paragraph_words = soup.p.text.split()\n",
    "\n",
    "first_paragraph_text"
   ]
  },
  {
   "cell_type": "code",
   "execution_count": 10,
   "id": "4e4fcceb-8656-49f6-98ce-d8a75f69d9be",
   "metadata": {},
   "outputs": [
    {
     "data": {
      "text/plain": [
       "['This', 'is', 'the', 'first', 'paragraph.']"
      ]
     },
     "execution_count": 10,
     "metadata": {},
     "output_type": "execute_result"
    }
   ],
   "source": [
    "first_paragraph_words"
   ]
  },
  {
   "cell_type": "code",
   "execution_count": 11,
   "id": "2ce72c60-20d4-4883-b1c8-945b9dca4810",
   "metadata": {},
   "outputs": [
    {
     "data": {
      "text/plain": [
       "'p1'"
      ]
     },
     "execution_count": 11,
     "metadata": {},
     "output_type": "execute_result"
    }
   ],
   "source": [
    "first_paragraph_id = soup.p['id']       # raises KeyError if no 'id'\n",
    "first_paragraph_id"
   ]
  },
  {
   "cell_type": "code",
   "execution_count": 12,
   "id": "b1c5c6b9-f29a-4ae4-99f8-d9baa4bd54ab",
   "metadata": {},
   "outputs": [
    {
     "data": {
      "text/plain": [
       "[<p id=\"p1\">This is the first paragraph.</p>,\n",
       " <p class=\"important\">This is the second paragraph.</p>]"
      ]
     },
     "execution_count": 12,
     "metadata": {},
     "output_type": "execute_result"
    }
   ],
   "source": [
    "soup.find_all('p')"
   ]
  },
  {
   "cell_type": "code",
   "execution_count": 13,
   "id": "9a0cb3c2-bbdb-4c17-b487-c25bb5230019",
   "metadata": {},
   "outputs": [
    {
     "data": {
      "text/plain": [
       "[<p id=\"p1\">This is the first paragraph.</p>]"
      ]
     },
     "execution_count": 13,
     "metadata": {},
     "output_type": "execute_result"
    }
   ],
   "source": [
    "#find all paragraphs with ids\n",
    "[p for p in soup('p') if p.get('id')]"
   ]
  },
  {
   "cell_type": "code",
   "execution_count": 14,
   "id": "29906674-e078-4fe6-a856-62e1bc034d8e",
   "metadata": {},
   "outputs": [
    {
     "data": {
      "text/plain": [
       "[<p class=\"important\">This is the second paragraph.</p>]"
      ]
     },
     "execution_count": 14,
     "metadata": {},
     "output_type": "execute_result"
    }
   ],
   "source": [
    "soup('p', 'important')"
   ]
  },
  {
   "cell_type": "code",
   "execution_count": 19,
   "id": "f8ece2ec-610c-43a0-af6a-668d8f80b4f8",
   "metadata": {},
   "outputs": [
    {
     "data": {
      "text/plain": [
       "[<span id=\"name\">Joel</span>,\n",
       " <span id=\"twitter\">@joelgrus</span>,\n",
       " <span id=\"email\">joelgrus-at-gmail</span>]"
      ]
     },
     "execution_count": 19,
     "metadata": {},
     "output_type": "execute_result"
    }
   ],
   "source": [
    "#find all span elements within a div\n",
    "spans_inside_divs = [span\n",
    "                     for div in soup('div')     # for each <div> on the page\n",
    "                     for span in div('span')]   # find each <span> inside it\n",
    "\n",
    "\n",
    "spans_inside_divs"
   ]
  },
  {
   "cell_type": "markdown",
   "id": "95dfb0d0-568c-46d5-b1b5-032bf7905423",
   "metadata": {},
   "source": [
    "#### Example 1:"
   ]
  },
  {
   "cell_type": "markdown",
   "id": "c537fff1-2006-4fa5-a2a0-26207d7895bc",
   "metadata": {},
   "source": [
    "In this example, we want to find all the goverment representatives that have press releases about *'data'* starting from the [House of Representatives' directory](https://www.house.gov/representatives)"
   ]
  },
  {
   "cell_type": "code",
   "execution_count": 25,
   "id": "4a9c4040-aa42-4ef5-a78d-82715f3d98e1",
   "metadata": {},
   "outputs": [
    {
     "data": {
      "text/plain": [
       "['#main-content',\n",
       " '/',\n",
       " '/',\n",
       " '/representatives',\n",
       " '/leadership',\n",
       " '/committees',\n",
       " '/legislative-activity',\n",
       " '/the-house-explained',\n",
       " '/visitors',\n",
       " '/educators-and-students',\n",
       " '/media',\n",
       " '/doing-business-with-the-house',\n",
       " '/employment',\n",
       " '/representatives',\n",
       " '/leadership']"
      ]
     },
     "execution_count": 25,
     "metadata": {},
     "output_type": "execute_result"
    }
   ],
   "source": [
    "    from bs4 import BeautifulSoup\n",
    "    import requests\n",
    "    \n",
    "    url = \"https://www.house.gov/representatives\"\n",
    "    text = requests.get(url).text\n",
    "    soup = BeautifulSoup(text, \"html5lib\")\n",
    "    \n",
    "    all_urls = [a['href']\n",
    "                for a in soup('a')\n",
    "                if a.has_attr('href')]\n",
    "    \n",
    "    all_urls[:15]"
   ]
  },
  {
   "cell_type": "markdown",
   "id": "81d27f31-73e2-4442-a10e-314534edf442",
   "metadata": {},
   "source": [
    "Our list of URLs currently has >900 entries, but we're only interested in the ones that start with http:// or https:// and end with .house.gov"
   ]
  },
  {
   "cell_type": "code",
   "execution_count": 41,
   "id": "345d965d-02b0-4781-a4fa-ca23e5abd8da",
   "metadata": {},
   "outputs": [
    {
     "name": "stdout",
     "output_type": "stream",
     "text": [
      "878\n"
     ]
    }
   ],
   "source": [
    "    import re\n",
    "    # Must start with http:// or https://\n",
    "    # Must end with .house.gov or .house.gov/\n",
    "    regex = r\"^https?://.*\\.house\\.gov/?$\"\n",
    "\n",
    "    good_urls = [url for url in all_urls if re.match(regex, url)]\n",
    "    print(len(good_urls))"
   ]
  },
  {
   "cell_type": "code",
   "execution_count": 30,
   "id": "62ccf5a9-ef83-4ac4-bc2d-5e3b5414f288",
   "metadata": {},
   "outputs": [
    {
     "data": {
      "text/plain": [
       "['https://carl.house.gov',\n",
       " 'https://barrymoore.house.gov',\n",
       " 'https://mikerogers.house.gov/',\n",
       " 'https://aderholt.house.gov/',\n",
       " 'https://brooks.house.gov/']"
      ]
     },
     "execution_count": 30,
     "metadata": {},
     "output_type": "execute_result"
    }
   ],
   "source": [
    "good_urls[:5]"
   ]
  },
  {
   "cell_type": "code",
   "execution_count": 42,
   "id": "eab159f7-edbc-40d6-9f84-09647c94b708",
   "metadata": {},
   "outputs": [
    {
     "name": "stdout",
     "output_type": "stream",
     "text": [
      "439\n"
     ]
    }
   ],
   "source": [
    "# we use set to remove duplicates\n",
    "\n",
    "good_urls = list(set(good_urls))\n",
    "    \n",
    "print(len(good_urls))"
   ]
  },
  {
   "cell_type": "code",
   "execution_count": 43,
   "id": "112a6783-3be6-445b-8ba1-1ac835cdc4d1",
   "metadata": {},
   "outputs": [
    {
     "name": "stdout",
     "output_type": "stream",
     "text": [
      "after sampling, left with ['https://morgangriffith.house.gov/', 'https://gomez.house.gov/', 'https://davis.house.gov', 'https://massie.house.gov', 'https://higgins.house.gov', 'https://houlahan.house.gov/', 'https://watsoncoleman.house.gov/', 'https://graves.house.gov/', 'https://vanduyne.house.gov', 'https://gonzalez.house.gov', 'https://ellzey.house.gov/', 'https://delgado.house.gov', 'https://mccaul.house.gov', 'https://ohalleran.house.gov', 'https://calvert.house.gov/']\n"
     ]
    }
   ],
   "source": [
    "    #instead of scraping all 400+ websites, we're just going to do 5    \n",
    "    import random\n",
    "    good_urls = random.sample(good_urls, 15)\n",
    "    print(f\"after sampling, left with {good_urls}\")\n",
    "   "
   ]
  },
  {
   "cell_type": "code",
   "execution_count": 44,
   "id": "a7b7e2b4-a472-4fac-a995-13c78d339de2",
   "metadata": {},
   "outputs": [
    {
     "name": "stdout",
     "output_type": "stream",
     "text": [
      "https://morgangriffith.house.gov/: {'/News/DocumentQuery.aspx?DocumentTypeID=2235'}\n",
      "https://gomez.house.gov/: {'/news/documentquery.aspx?DocumentTypeID=27'}\n",
      "https://davis.house.gov: set()\n",
      "https://massie.house.gov: set()\n",
      "https://higgins.house.gov: {'/media-center/press-releases', '/press-releases/archived-press-releases-2008'}\n",
      "https://houlahan.house.gov/: {'/news/documentquery.aspx?DocumentTypeID=27'}\n",
      "https://watsoncoleman.house.gov/: {'/news/documentquery.aspx?DocumentTypeID=27'}\n",
      "https://graves.house.gov/: {'/media/press-releases'}\n",
      "https://vanduyne.house.gov: {'/media/press-releases'}\n",
      "https://gonzalez.house.gov: {'/media/press-releases'}\n",
      "https://ellzey.house.gov/: {'/media/press-releases'}\n",
      "https://delgado.house.gov: {'/media/press-releases'}\n",
      "https://mccaul.house.gov: {'/media-center/press-releases'}\n",
      "https://ohalleran.house.gov: {'/media/press-releases'}\n",
      "https://calvert.house.gov/: {'/media/press-releases'}\n"
     ]
    }
   ],
   "source": [
    " \n",
    "    from typing import Dict, Set\n",
    "    \n",
    "    press_releases: Dict[str, Set[str]] = {}\n",
    "    \n",
    "    \n",
    "    # getting press release related links\n",
    "    for house_url in good_urls:\n",
    "        html = requests.get(house_url).text\n",
    "        soup = BeautifulSoup(html, 'html5lib')\n",
    "        pr_links = {a['href'] for a in soup('a') if 'press releases' in a.text.lower()}\n",
    "        print(f\"{house_url}: {pr_links}\")\n",
    "        press_releases[house_url] = pr_links\n",
    "  "
   ]
  },
  {
   "cell_type": "code",
   "execution_count": 38,
   "id": "fb184505-72ee-4784-aee3-179cc46d25b4",
   "metadata": {},
   "outputs": [],
   "source": [
    "# defining a function that searches within the paragraph text for a specific word\n",
    "def paragraph_mentions(text: str, keyword: str) -> bool:\n",
    "    \"\"\"\n",
    "    Returns True if a <p> inside the text mentions {keyword}\n",
    "    \"\"\"\n",
    "    soup = BeautifulSoup(text, 'html5lib')\n",
    "    paragraphs = [p.get_text() for p in soup('p')]\n",
    "\n",
    "    return any(keyword.lower() in paragraph.lower()\n",
    "               for paragraph in paragraphs)\n"
   ]
  },
  {
   "cell_type": "code",
   "execution_count": 50,
   "id": "b42a16fe-f645-4e8c-943f-01ddda35c0bf",
   "metadata": {},
   "outputs": [
    {
     "name": "stdout",
     "output_type": "stream",
     "text": [
      "https://graves.house.gov/\n"
     ]
    }
   ],
   "source": [
    "    #searching through the press release links for mentions of 'mandate'\n",
    "    for house_url, pr_links in press_releases.items():\n",
    "        for pr_link in pr_links:\n",
    "            url = f\"{house_url}/{pr_link}\"\n",
    "            text = requests.get(url).text\n",
    "    \n",
    "            if paragraph_mentions(text, 'mandate'):\n",
    "                print(f\"{house_url}\")\n",
    "                break  # done with this house_url\n",
    "    "
   ]
  },
  {
   "cell_type": "markdown",
   "id": "3ef42d73-3554-49cd-9f14-d2f425238b53",
   "metadata": {},
   "source": [
    "### Using APIs:\n",
    "\n",
    "Many websites now provide access to the data within them through *application programming interfaces* (APIs). Often the data will be provided in either json or xml format which we can convert to a Python object using the `json` library or `beautiful soup` respectively."
   ]
  },
  {
   "cell_type": "code",
   "execution_count": 51,
   "id": "57df37a2-9a50-45a9-a26d-c9652b28ec49",
   "metadata": {},
   "outputs": [],
   "source": [
    "import json\n",
    "serialized = \"\"\"{ \"title\" : \"Data Science Book\",\n",
    "                  \"author\" : \"Joel Grus\",\n",
    "                  \"publicationYear\" : 2019,\n",
    "                  \"topics\" : [ \"data\", \"science\", \"data science\"] }\"\"\"\n",
    "\n",
    "# parse the JSON to create a Python dict\n",
    "deserialized = json.loads(serialized)\n"
   ]
  },
  {
   "cell_type": "code",
   "execution_count": 53,
   "id": "d5116279-2fb3-490c-b0be-011be6764412",
   "metadata": {},
   "outputs": [
    {
     "data": {
      "text/plain": [
       "'Data Science Book'"
      ]
     },
     "execution_count": 53,
     "metadata": {},
     "output_type": "execute_result"
    }
   ],
   "source": [
    "deserialized['title']"
   ]
  },
  {
   "cell_type": "code",
   "execution_count": 57,
   "id": "d1cf38d9-cb50-4f2c-8b7d-5467e53678f0",
   "metadata": {},
   "outputs": [],
   "source": [
    "    import requests, json\n",
    "    \n",
    "    github_user = \"kmfunder\"\n",
    "    endpoint = f\"https://api.github.com/users/{github_user}/repos\"\n",
    "    \n",
    "    #repos = json.loads(requests.get(endpoint).text)\n",
    "    \n",
    "    from collections import Counter\n",
    "\n",
    "    #last_5_repositories = sorted(repos,\n",
    "    #                             key=lambda r: r[\"pushed_at\"],\n",
    "    #                             reverse=True)[:5]\n",
    "    \n",
    "    #last_5_languages = [repo[\"language\"]\n",
    "    #                    for repo in last_5_repositories]\n",
    " \n",
    "  "
   ]
  },
  {
   "cell_type": "markdown",
   "id": "66f0ff08-45f6-4e78-9d5f-67a43985e0b7",
   "metadata": {},
   "source": [
    "#### Example:\n",
    "\n",
    "We can access twitter data through APIs to get news or measure reactions to current events. There are many python twitter libraries, but we'll be using [Twython](https://twython.readthedocs.io/en/latest/)"
   ]
  },
  {
   "cell_type": "markdown",
   "id": "efdc209d-2443-4391-898e-4db53027e3ce",
   "metadata": {},
   "source": [
    "[Scrapy](https://scrapy.org/) is a library for building complicated web scrapers and [pandas](https://pandas.pydata.org/) is the go-to tool for working with data."
   ]
  },
  {
   "cell_type": "markdown",
   "id": "3feb8824-e69a-4fa9-b6a7-fa7c0639f2e4",
   "metadata": {},
   "source": [
    "```python\n",
    "import os\n",
    "    \n",
    "    # Feel free to plug your key and secret in directly\n",
    "    CONSUMER_KEY = os.environ.get(\"TWITTER_CONSUMER_KEY\")\n",
    "    CONSUMER_SECRET = os.environ.get(\"TWITTER_CONSUMER_SECRET\")\n",
    "    \n",
    "    import webbrowser\n",
    "    from twython import Twython\n",
    "    \n",
    "    # Get a temporary client to retrieve an authentication url\n",
    "    temp_client = Twython(CONSUMER_KEY, CONSUMER_SECRET)\n",
    "    temp_creds = temp_client.get_authentication_tokens()\n",
    "    url = temp_creds['auth_url']\n",
    "    \n",
    "    # Now visit that URL to authorize the application and get a PIN\n",
    "    print(f\"go visit {url} and get the PIN code and paste it below\")\n",
    "    webbrowser.open(url)\n",
    "    PIN_CODE = input(\"please enter the PIN code: \")\n",
    "    \n",
    "    # Now we use that PIN_CODE to get the actual tokens\n",
    "    auth_client = Twython(CONSUMER_KEY,\n",
    "                          CONSUMER_SECRET,\n",
    "                          temp_creds['oauth_token'],\n",
    "                          temp_creds['oauth_token_secret'])\n",
    "    final_step = auth_client.get_authorized_tokens(PIN_CODE)\n",
    "    ACCESS_TOKEN = final_step['oauth_token']\n",
    "    ACCESS_TOKEN_SECRET = final_step['oauth_token_secret']\n",
    "    \n",
    "    # And get a new Twython instance using them.\n",
    "    twitter = Twython(CONSUMER_KEY, CONSUMER_SECRET, ACCESS_TOKEN, ACCESS_TOKEN_SECRET)\n",
    "    \n",
    "    from twython import TwythonStreamer\n",
    "    \n",
    "    # Appending data to a global variable is pretty poor form\n",
    "    # but it makes the example much simpler\n",
    "    tweets = []\n",
    "    \n",
    "    class MyStreamer(TwythonStreamer):\n",
    "        def on_success(self, data):\n",
    "            \"\"\"\n",
    "            What do we do when twitter sends us data?\n",
    "            Here data will be a Python dict representing a tweet\n",
    "            \"\"\"\n",
    "            # We only want to collect English-language tweets\n",
    "            if data.get('lang') == 'en':\n",
    "                tweets.append(data)\n",
    "                print(f\"received tweet #{len(tweets)}\")\n",
    "    \n",
    "            # Stop when we've collected enough\n",
    "            if len(tweets) >= 100:\n",
    "                self.disconnect()\n",
    "    \n",
    "        def on_error(self, status_code, data):\n",
    "            print(status_code, data)\n",
    "            self.disconnect()\n",
    "    \n",
    "    stream = MyStreamer(CONSUMER_KEY, CONSUMER_SECRET,\n",
    "                        ACCESS_TOKEN, ACCESS_TOKEN_SECRET)\n",
    "    \n",
    "    # starts consuming public statuses that contain the keyword 'data'\n",
    "    stream.statuses.filter(track='data')\n",
    "    \n",
    "    # if instead we wanted to start consuming a sample of *all* public statuses\n",
    "    # stream.statuses.sample()\n",
    "    \n",
    "if __name__ == \"__main__\": main()\n",
    "\n",
    "```"
   ]
  },
  {
   "cell_type": "markdown",
   "id": "65b6a1ee-ee55-4e86-aaea-9e71d659ea0d",
   "metadata": {
    "tags": []
   },
   "source": [
    "## ~~Chapter 10: Working with Data~~"
   ]
  },
  {
   "cell_type": "markdown",
   "id": "ce5fcc71-f95e-4597-b93c-0ebc0d236299",
   "metadata": {
    "jp-MarkdownHeadingCollapsed": true,
    "tags": []
   },
   "source": [
    "## Chapter 11: Machine Learning"
   ]
  },
  {
   "cell_type": "markdown",
   "id": "323bbeb5-af17-4e67-a1b9-e045653c9848",
   "metadata": {
    "jp-MarkdownHeadingCollapsed": true,
    "tags": []
   },
   "source": [
    "Most people (including myself) imagine that data scientists spend their days building, training, and tweaking machine learning models. However, it's mostly turning real world problems into data problems where collecting, understanding, cleaning and formatting the data is at the forefront. "
   ]
  },
  {
   "cell_type": "markdown",
   "id": "acc2833d-c449-4c2c-8e92-4aa151209cb4",
   "metadata": {},
   "source": [
    "__*Machine learning*__ refers to the process of creating and using models that are learned from data. It's also sometimes called *predictive modeling* or *data mining*.\n",
    "\n",
    "Typically, the goal is to predict outcomes for new data using models developed from existing data. The following types of models are used today:\n",
    "\n",
    "* __*Supervised models*__ use a set of data labeled with the correct answers to learn from\n",
    "* __*Unsupervised models*__ use sets of data with no labels\n",
    "* __*Semisupervised models*__ use a set of data where only some of the data are labeled.\n",
    "* __*Online models*__ need to continuously adjust to newly arriving data\n",
    "* __*Semisupervised models*__ use a set of data where only some of the data are labeled.\n",
    "* __*Reinforcement models*__ get a signal indicating performance after making a series of predictions. "
   ]
  },
  {
   "cell_type": "markdown",
   "id": "11a28355-037c-46e1-9c5e-f009e21a12e3",
   "metadata": {},
   "source": [
    "A common danger in machine learning is **overfitting**: producing a model that performs well on the data you train on, but generalizes poorly to any new data. \n",
    "\n",
    "The other side of this is **underfitting**: producing a model that doesn't perform well, even on the training data. \n",
    "\n",
    "![Overfitting vs. Underfitting](overfit.png)"
   ]
  },
  {
   "cell_type": "markdown",
   "id": "36a0b5f9-e53f-4e4e-a8e2-de100ce8a315",
   "metadata": {},
   "source": [
    "To combat this, we can split the dataset into training and testing sets."
   ]
  },
  {
   "cell_type": "code",
   "execution_count": 59,
   "id": "6e3501e9-9913-43f6-a00f-1bf6119d2ecb",
   "metadata": {},
   "outputs": [],
   "source": [
    "import random\n",
    "from typing import TypeVar, List, Tuple\n",
    "X = TypeVar('X')  # generic type to represent a data point\n",
    "\n",
    "def split_data(data: List[X], prob: float) -> Tuple[List[X], List[X]]:\n",
    "    \"\"\"Split data into fractions [prob, 1 - prob]\"\"\"\n",
    "    data = data[:]                    # Make a shallow copy\n",
    "    random.shuffle(data)              # because shuffle modifies the list.\n",
    "    cut = int(len(data) * prob)       # Use prob to find a cutoff\n",
    "    return data[:cut], data[cut:]     # and split the shuffled list there.\n",
    "\n",
    "data = [n for n in range(1000)]\n",
    "train, test = split_data(data, 0.75)"
   ]
  },
  {
   "cell_type": "code",
   "execution_count": 61,
   "id": "033dbfef-8476-4434-b555-b21403a950a2",
   "metadata": {},
   "outputs": [
    {
     "data": {
      "text/plain": [
       "True"
      ]
     },
     "execution_count": 61,
     "metadata": {},
     "output_type": "execute_result"
    }
   ],
   "source": [
    "# The proportions should be correct\n",
    "len(train) == 750\n",
    "len(test) == 250"
   ]
  },
  {
   "cell_type": "code",
   "execution_count": 62,
   "id": "5121e0dc-ae1d-491e-b370-a392be669c42",
   "metadata": {},
   "outputs": [
    {
     "data": {
      "text/plain": [
       "True"
      ]
     },
     "execution_count": 62,
     "metadata": {},
     "output_type": "execute_result"
    }
   ],
   "source": [
    "# And the original data should be preserved (in some order)\n",
    "sorted(train + test) == data"
   ]
  },
  {
   "cell_type": "code",
   "execution_count": 63,
   "id": "a50b75eb-6d22-44e2-ad11-a747902e4e9e",
   "metadata": {},
   "outputs": [],
   "source": [
    "Y = TypeVar('Y')  # generic type to represent output variables\n",
    "\n",
    "def train_test_split(xs: List[X],\n",
    "                     ys: List[Y],\n",
    "                     test_pct: float) -> Tuple[List[X], List[X], List[Y], List[Y]]:\n",
    "    # Generate the indices and split them.\n",
    "    idxs = [i for i in range(len(xs))]\n",
    "    train_idxs, test_idxs = split_data(idxs, 1 - test_pct)\n",
    "\n",
    "    return ([xs[i] for i in train_idxs],  # x_train\n",
    "            [xs[i] for i in test_idxs],   # x_test\n",
    "            [ys[i] for i in train_idxs],  # y_train\n",
    "            [ys[i] for i in test_idxs])   # y_test\n",
    "\n",
    "xs = [x for x in range(1000)]  # xs are 1 ... 1000\n",
    "ys = [2 * x for x in xs]       # each y_i is twice x_i\n",
    "x_train, x_test, y_train, y_test = train_test_split(xs, ys, 0.25)"
   ]
  },
  {
   "cell_type": "code",
   "execution_count": 64,
   "id": "c6f80bb5-9320-449c-9cf2-0333d6a411b2",
   "metadata": {},
   "outputs": [
    {
     "data": {
      "text/plain": [
       "True"
      ]
     },
     "execution_count": 64,
     "metadata": {},
     "output_type": "execute_result"
    }
   ],
   "source": [
    "# Check that the proportions are correct\n",
    "len(x_train) == len(y_train) == 750\n",
    "len(x_test) == len(y_test) == 250"
   ]
  },
  {
   "cell_type": "markdown",
   "id": "1ed6abeb-b91e-4ff7-aa95-753ac8f16172",
   "metadata": {},
   "source": [
    "We can use various statistics about our model's performance. \n",
    "\n",
    "**Accuracy** is defined as the fraction of correct predictions."
   ]
  },
  {
   "cell_type": "code",
   "execution_count": 65,
   "id": "47cb04f5-327f-4b0c-acd8-8e9eefaeac00",
   "metadata": {},
   "outputs": [
    {
     "data": {
      "text/plain": [
       "True"
      ]
     },
     "execution_count": 65,
     "metadata": {},
     "output_type": "execute_result"
    }
   ],
   "source": [
    "def accuracy(tp: int, fp: int, fn: int, tn: int) -> float:\n",
    "    correct = tp + tn\n",
    "    total = tp + fp + fn + tn\n",
    "    return correct / total\n",
    "\n",
    "accuracy(70, 4930, 13930, 981070) == 0.98114"
   ]
  },
  {
   "cell_type": "markdown",
   "id": "1c8a2dcc-e57f-4a1a-9a2e-26983597e9a1",
   "metadata": {},
   "source": [
    "However, it's more common to look at the combination of *precision* and *recall*.\n",
    "**Precision** measures how acccurate our positive predictions are and **recall** measures what fraction of the positives were identified"
   ]
  },
  {
   "cell_type": "code",
   "execution_count": 66,
   "id": "e1cabd5c-98d1-4932-ac1c-831e13da8b0b",
   "metadata": {},
   "outputs": [
    {
     "data": {
      "text/plain": [
       "True"
      ]
     },
     "execution_count": 66,
     "metadata": {},
     "output_type": "execute_result"
    }
   ],
   "source": [
    "def precision(tp: int, fp: int, fn: int, tn: int) -> float:\n",
    "    return tp / (tp + fp)\n",
    "\n",
    "precision(70, 4930, 13930, 981070) == 0.014"
   ]
  },
  {
   "cell_type": "code",
   "execution_count": 70,
   "id": "ea762cea-d5b8-4b13-8754-2b1628d44ccb",
   "metadata": {},
   "outputs": [
    {
     "data": {
      "text/plain": [
       "True"
      ]
     },
     "execution_count": 70,
     "metadata": {},
     "output_type": "execute_result"
    }
   ],
   "source": [
    "def recall(tp: int, fp: int, fn: int, tn: int) -> float:\n",
    "    return tp / (tp + fn)\n",
    "\n",
    "recall(70, 4930, 13930, 981070) == 0.005"
   ]
  },
  {
   "cell_type": "markdown",
   "id": "20cf401d-99e3-4650-9609-82856d89fccc",
   "metadata": {},
   "source": [
    "Sometimes precision and recall are combined into the **F1 score** which calculates the [harmonic mean](https://en.wikipedia.org/wiki/Harmonic_mean) of the two. "
   ]
  },
  {
   "cell_type": "code",
   "execution_count": 69,
   "id": "e96f80b2-970c-4988-a9c7-a56ae3fe0cb3",
   "metadata": {},
   "outputs": [
    {
     "data": {
      "text/plain": [
       "0.00736842105263158"
      ]
     },
     "execution_count": 69,
     "metadata": {},
     "output_type": "execute_result"
    }
   ],
   "source": [
    "def f1_score(tp: int, fp: int, fn: int, tn: int) -> float:\n",
    "    p = precision(tp, fp, fn, tn)\n",
    "    r = recall(tp, fp, fn, tn)\n",
    "\n",
    "    return 2 * p * r / (p + r)\n",
    "\n",
    "f1_score(70, 4930, 13930, 981070)"
   ]
  },
  {
   "cell_type": "markdown",
   "id": "a835399f-48b3-4550-b8bc-3df1f020aa28",
   "metadata": {},
   "source": [
    "## Chapter 12: *k*-Nearest Neighbors"
   ]
  },
  {
   "cell_type": "markdown",
   "id": "62163f31-ff2a-476a-a098-e68943ab07d8",
   "metadata": {},
   "source": [
    "## Chapter 13: Naive Bayes"
   ]
  },
  {
   "cell_type": "markdown",
   "id": "3483cc8d-9005-4b10-ae66-9696ca57a5ad",
   "metadata": {},
   "source": [
    "## Chapter 14: Simple Linear Regression"
   ]
  },
  {
   "cell_type": "markdown",
   "id": "f393efea-c9e2-4200-81bd-fd082151e2c9",
   "metadata": {},
   "source": [
    "## Chapter 15: Mulitple Regression"
   ]
  },
  {
   "cell_type": "markdown",
   "id": "52057851-4d34-4c51-b611-4220ff22162f",
   "metadata": {},
   "source": [
    "## Chapter 16: Locistic Regression"
   ]
  },
  {
   "cell_type": "markdown",
   "id": "fa9fe2f7-149c-4c5f-b7a6-5a0675a921b6",
   "metadata": {},
   "source": [
    "## Chapter 17: Decision Trees"
   ]
  },
  {
   "cell_type": "markdown",
   "id": "fc6815e0-5407-4d13-af2f-d3193a19a718",
   "metadata": {},
   "source": [
    "## Chapter 18: Neural Networks"
   ]
  },
  {
   "cell_type": "markdown",
   "id": "a7667bfa-73b1-44d2-9902-a2c607a5facf",
   "metadata": {},
   "source": [
    "## Chapter 19: Deep Learning"
   ]
  },
  {
   "cell_type": "markdown",
   "id": "070f671f-590d-4e03-85d0-6e7ab06be416",
   "metadata": {
    "tags": []
   },
   "source": [
    "## Chapter 20: Clustering"
   ]
  },
  {
   "cell_type": "markdown",
   "id": "71864aa3-07ed-4c4f-8600-29415cc961a4",
   "metadata": {
    "tags": []
   },
   "source": [
    "## Chapter 21: Natural Language Processing"
   ]
  },
  {
   "cell_type": "markdown",
   "id": "c663b85b-cbda-44a8-977f-03d942b5af51",
   "metadata": {
    "tags": []
   },
   "source": [
    "## Chapter 22: Network Analysis"
   ]
  }
 ],
 "metadata": {
  "kernelspec": {
   "display_name": "Python 3 (ipykernel)",
   "language": "python",
   "name": "python3"
  },
  "language_info": {
   "codemirror_mode": {
    "name": "ipython",
    "version": 3
   },
   "file_extension": ".py",
   "mimetype": "text/x-python",
   "name": "python",
   "nbconvert_exporter": "python",
   "pygments_lexer": "ipython3",
   "version": "3.9.7"
  },
  "toc-autonumbering": false,
  "toc-showcode": false,
  "toc-showmarkdowntxt": false,
  "toc-showtags": false
 },
 "nbformat": 4,
 "nbformat_minor": 5
}
